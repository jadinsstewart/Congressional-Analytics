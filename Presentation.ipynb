{
  "nbformat": 4,
  "nbformat_minor": 0,
  "metadata": {
    "colab": {
      "provenance": [],
      "include_colab_link": true
    },
    "kernelspec": {
      "name": "python3",
      "display_name": "Python 3"
    },
    "language_info": {
      "name": "python"
    }
  },
  "cells": [
    {
      "cell_type": "markdown",
      "metadata": {
        "id": "view-in-github",
        "colab_type": "text"
      },
      "source": [
        "<a href=\"https://colab.research.google.com/github/jadinsstewart/Congressional-Analytics/blob/main/Presentation.ipynb\" target=\"_parent\"><img src=\"https://colab.research.google.com/assets/colab-badge.svg\" alt=\"Open In Colab\"/></a>"
      ]
    },
    {
      "cell_type": "markdown",
      "source": [
        "Ella Archie and Jadin Stewart\n",
        "\n",
        "GSB S521-01\n",
        "\n",
        "January 23rd, 2023"
      ],
      "metadata": {
        "id": "PsYyFXjENFB5"
      }
    },
    {
      "cell_type": "markdown",
      "source": [
        "<h1><center>Political Affiliation by Number of Computers Owned per Household </center></h1>"
      ],
      "metadata": {
        "id": "cLiV9ljmNSM0"
      }
    },
    {
      "cell_type": "markdown",
      "source": [
        "# Introduction\n",
        "\n"
      ],
      "metadata": {
        "id": "OcVt9nsgCnPm"
      }
    },
    {
      "cell_type": "markdown",
      "source": [
        "In class last week, we looked at the relationship between household income and political affiliation. While we observed a correlation between the two variables, we discussed the possibility of there being confounding variables, specifically highest level of education achieved."
      ],
      "metadata": {
        "id": "3DItNHufGNRW"
      }
    },
    {
      "cell_type": "markdown",
      "source": [
        "While we originally had planned to investigate the relationship between political affiliation and education, we found another variable that we thought might lead to interesting findings. In this presentation, we will investigate the relationship between political affiliation and the percentage of households that have at least a desktop or a laptop in their home."
      ],
      "metadata": {
        "id": "sVPWNoXwHk3e"
      }
    },
    {
      "cell_type": "markdown",
      "source": [
        "# Hypothesis"
      ],
      "metadata": {
        "id": "I1Hz5HIEqBI6"
      }
    },
    {
      "cell_type": "markdown",
      "source": [
        "We hypothesis that districts with a high percentage of households having 1+ computers will tend to be democratic while districts with a low percentage of households having 1+ computers will tend to be republican."
      ],
      "metadata": {
        "id": "tAHvNwugqQgt"
      }
    },
    {
      "cell_type": "markdown",
      "source": [
        "Our hypothesis is based on the premise that the presence of a desktop or laptop in the home likely positively correlates to both education levels and household incomes, which in turn, relate to political affiliation. The digital divide most negatively impacts lower income households (which, as we discovered last week, tend to be more red), as well as rural areas (which are also generally more politically conservative). "
      ],
      "metadata": {
        "id": "qJZJ-gBtWp07"
      }
    },
    {
      "cell_type": "markdown",
      "source": [
        "# ACS Data"
      ],
      "metadata": {
        "id": "tecpO_UME_hx"
      }
    },
    {
      "cell_type": "code",
      "execution_count": null,
      "metadata": {
        "id": "muXSG1jwCRyw"
      },
      "outputs": [],
      "source": [
        "# Libraries\n",
        "import pandas as pd  \n",
        "import json \n",
        "from urllib.request import urlopen \n",
        "import matplotlib.pyplot as plt "
      ]
    },
    {
      "cell_type": "code",
      "source": [
        "# URL for ACS Computer Data\n",
        "url=\"https://api.census.gov/data/2021/acs/acs1?get=NAME,B19001_001E,B28001_011E,B28001_003E&for=congressional%20district:*&in=state:*\"\n",
        "\n",
        "# Storing the Response of the URL\n",
        "response = urlopen(url)\n",
        "\n",
        "# Storing JSON Response from URL in Data\n",
        "data_json = json.loads(response.read()) \n",
        "\n",
        "# Removing the First Row (Headers)\n",
        "data_json.pop(0)\n",
        "\n",
        "# Manually Populating Columns\n",
        "cols = ['District Name','Total Households','No Computer', '1+ Computers', 'State code', 'district number']\n",
        "\n",
        "acs_df = pd.DataFrame(data_json, columns = cols)\n",
        "\n",
        "# Cleaning the Data\n",
        "acs_df[['District', 'State']] = acs_df['District Name'].str.split(',', expand=True) \n",
        "acs_df['district number'] = pd.to_numeric(acs_df['district number'])\n",
        "acs_df['State'] = acs_df['State'].str.strip()\n",
        "\n",
        "# Keeping Only Our Selected Columns\n",
        "acs_df = acs_df[['Total Households', 'No Computer', \"1+ Computers\", 'district number', 'State']]\n",
        "\n",
        "# Looking at the Top Results\n",
        "acs_df.head()"
      ],
      "metadata": {
        "colab": {
          "base_uri": "https://localhost:8080/",
          "height": 204
        },
        "id": "W80bmkKXKjaC",
        "outputId": "9ba7b977-2fc2-42d3-a0fd-0f026ee55c83"
      },
      "execution_count": null,
      "outputs": [
        {
          "output_type": "execute_result",
          "data": {
            "text/plain": [
              "  Total Households No Computer 1+ Computers  district number        State\n",
              "0           289474       15425       229568               10     Michigan\n",
              "1           299804       18341       211861                4  Mississippi\n",
              "2           278057       14747       212966               14     Michigan\n",
              "3           306685       21251       234002                1     Michigan\n",
              "4           285554       23272       196641                3  Mississippi"
            ],
            "text/html": [
              "\n",
              "  <div id=\"df-8763221a-b5a6-44de-8f0c-7455ab51fabe\">\n",
              "    <div class=\"colab-df-container\">\n",
              "      <div>\n",
              "<style scoped>\n",
              "    .dataframe tbody tr th:only-of-type {\n",
              "        vertical-align: middle;\n",
              "    }\n",
              "\n",
              "    .dataframe tbody tr th {\n",
              "        vertical-align: top;\n",
              "    }\n",
              "\n",
              "    .dataframe thead th {\n",
              "        text-align: right;\n",
              "    }\n",
              "</style>\n",
              "<table border=\"1\" class=\"dataframe\">\n",
              "  <thead>\n",
              "    <tr style=\"text-align: right;\">\n",
              "      <th></th>\n",
              "      <th>Total Households</th>\n",
              "      <th>No Computer</th>\n",
              "      <th>1+ Computers</th>\n",
              "      <th>district number</th>\n",
              "      <th>State</th>\n",
              "    </tr>\n",
              "  </thead>\n",
              "  <tbody>\n",
              "    <tr>\n",
              "      <th>0</th>\n",
              "      <td>289474</td>\n",
              "      <td>15425</td>\n",
              "      <td>229568</td>\n",
              "      <td>10</td>\n",
              "      <td>Michigan</td>\n",
              "    </tr>\n",
              "    <tr>\n",
              "      <th>1</th>\n",
              "      <td>299804</td>\n",
              "      <td>18341</td>\n",
              "      <td>211861</td>\n",
              "      <td>4</td>\n",
              "      <td>Mississippi</td>\n",
              "    </tr>\n",
              "    <tr>\n",
              "      <th>2</th>\n",
              "      <td>278057</td>\n",
              "      <td>14747</td>\n",
              "      <td>212966</td>\n",
              "      <td>14</td>\n",
              "      <td>Michigan</td>\n",
              "    </tr>\n",
              "    <tr>\n",
              "      <th>3</th>\n",
              "      <td>306685</td>\n",
              "      <td>21251</td>\n",
              "      <td>234002</td>\n",
              "      <td>1</td>\n",
              "      <td>Michigan</td>\n",
              "    </tr>\n",
              "    <tr>\n",
              "      <th>4</th>\n",
              "      <td>285554</td>\n",
              "      <td>23272</td>\n",
              "      <td>196641</td>\n",
              "      <td>3</td>\n",
              "      <td>Mississippi</td>\n",
              "    </tr>\n",
              "  </tbody>\n",
              "</table>\n",
              "</div>\n",
              "      <button class=\"colab-df-convert\" onclick=\"convertToInteractive('df-8763221a-b5a6-44de-8f0c-7455ab51fabe')\"\n",
              "              title=\"Convert this dataframe to an interactive table.\"\n",
              "              style=\"display:none;\">\n",
              "        \n",
              "  <svg xmlns=\"http://www.w3.org/2000/svg\" height=\"24px\"viewBox=\"0 0 24 24\"\n",
              "       width=\"24px\">\n",
              "    <path d=\"M0 0h24v24H0V0z\" fill=\"none\"/>\n",
              "    <path d=\"M18.56 5.44l.94 2.06.94-2.06 2.06-.94-2.06-.94-.94-2.06-.94 2.06-2.06.94zm-11 1L8.5 8.5l.94-2.06 2.06-.94-2.06-.94L8.5 2.5l-.94 2.06-2.06.94zm10 10l.94 2.06.94-2.06 2.06-.94-2.06-.94-.94-2.06-.94 2.06-2.06.94z\"/><path d=\"M17.41 7.96l-1.37-1.37c-.4-.4-.92-.59-1.43-.59-.52 0-1.04.2-1.43.59L10.3 9.45l-7.72 7.72c-.78.78-.78 2.05 0 2.83L4 21.41c.39.39.9.59 1.41.59.51 0 1.02-.2 1.41-.59l7.78-7.78 2.81-2.81c.8-.78.8-2.07 0-2.86zM5.41 20L4 18.59l7.72-7.72 1.47 1.35L5.41 20z\"/>\n",
              "  </svg>\n",
              "      </button>\n",
              "      \n",
              "  <style>\n",
              "    .colab-df-container {\n",
              "      display:flex;\n",
              "      flex-wrap:wrap;\n",
              "      gap: 12px;\n",
              "    }\n",
              "\n",
              "    .colab-df-convert {\n",
              "      background-color: #E8F0FE;\n",
              "      border: none;\n",
              "      border-radius: 50%;\n",
              "      cursor: pointer;\n",
              "      display: none;\n",
              "      fill: #1967D2;\n",
              "      height: 32px;\n",
              "      padding: 0 0 0 0;\n",
              "      width: 32px;\n",
              "    }\n",
              "\n",
              "    .colab-df-convert:hover {\n",
              "      background-color: #E2EBFA;\n",
              "      box-shadow: 0px 1px 2px rgba(60, 64, 67, 0.3), 0px 1px 3px 1px rgba(60, 64, 67, 0.15);\n",
              "      fill: #174EA6;\n",
              "    }\n",
              "\n",
              "    [theme=dark] .colab-df-convert {\n",
              "      background-color: #3B4455;\n",
              "      fill: #D2E3FC;\n",
              "    }\n",
              "\n",
              "    [theme=dark] .colab-df-convert:hover {\n",
              "      background-color: #434B5C;\n",
              "      box-shadow: 0px 1px 3px 1px rgba(0, 0, 0, 0.15);\n",
              "      filter: drop-shadow(0px 1px 2px rgba(0, 0, 0, 0.3));\n",
              "      fill: #FFFFFF;\n",
              "    }\n",
              "  </style>\n",
              "\n",
              "      <script>\n",
              "        const buttonEl =\n",
              "          document.querySelector('#df-8763221a-b5a6-44de-8f0c-7455ab51fabe button.colab-df-convert');\n",
              "        buttonEl.style.display =\n",
              "          google.colab.kernel.accessAllowed ? 'block' : 'none';\n",
              "\n",
              "        async function convertToInteractive(key) {\n",
              "          const element = document.querySelector('#df-8763221a-b5a6-44de-8f0c-7455ab51fabe');\n",
              "          const dataTable =\n",
              "            await google.colab.kernel.invokeFunction('convertToInteractive',\n",
              "                                                     [key], {});\n",
              "          if (!dataTable) return;\n",
              "\n",
              "          const docLinkHtml = 'Like what you see? Visit the ' +\n",
              "            '<a target=\"_blank\" href=https://colab.research.google.com/notebooks/data_table.ipynb>data table notebook</a>'\n",
              "            + ' to learn more about interactive tables.';\n",
              "          element.innerHTML = '';\n",
              "          dataTable['output_type'] = 'display_data';\n",
              "          await google.colab.output.renderOutput(dataTable, element);\n",
              "          const docLink = document.createElement('div');\n",
              "          docLink.innerHTML = docLinkHtml;\n",
              "          element.appendChild(docLink);\n",
              "        }\n",
              "      </script>\n",
              "    </div>\n",
              "  </div>\n",
              "  "
            ]
          },
          "metadata": {},
          "execution_count": 2
        }
      ]
    },
    {
      "cell_type": "code",
      "source": [
        "# Convert Columns to Numeric Data Types\n",
        "acs_df[\"Total Households\"] = pd.to_numeric(acs_df[\"Total Households\"])\n",
        "acs_df[\"No Computer\"] = pd.to_numeric(acs_df[\"No Computer\"])\n",
        "acs_df['1+ Computers'] = pd.to_numeric(acs_df['1+ Computers'])\n",
        "\n",
        "# Computing New Columns for Percentage of Households\n",
        "acs_df['% of households with no computer'] = (100*acs_df['No Computer'])/acs_df['Total Households']\n",
        "acs_df['% of households with 1+ computers'] = (100*acs_df['1+ Computers'])/acs_df['Total Households']\n",
        "\n",
        "# Looking at the Top Results\n",
        "acs_df.head()"
      ],
      "metadata": {
        "colab": {
          "base_uri": "https://localhost:8080/",
          "height": 204
        },
        "id": "QoJxw_q9LLN_",
        "outputId": "b525322b-539f-40ff-803b-6fa14a9fce85"
      },
      "execution_count": null,
      "outputs": [
        {
          "output_type": "execute_result",
          "data": {
            "text/plain": [
              "   Total Households  No Computer  1+ Computers  district number        State  \\\n",
              "0            289474        15425        229568               10     Michigan   \n",
              "1            299804        18341        211861                4  Mississippi   \n",
              "2            278057        14747        212966               14     Michigan   \n",
              "3            306685        21251        234002                1     Michigan   \n",
              "4            285554        23272        196641                3  Mississippi   \n",
              "\n",
              "   % of households with no computer  % of households with 1+ computers  \n",
              "0                          5.328631                          79.305223  \n",
              "1                          6.117664                          70.666502  \n",
              "2                          5.303589                          76.590771  \n",
              "3                          6.929260                          76.300439  \n",
              "4                          8.149772                          68.862982  "
            ],
            "text/html": [
              "\n",
              "  <div id=\"df-c661e885-a090-4138-9c16-5defbdad04aa\">\n",
              "    <div class=\"colab-df-container\">\n",
              "      <div>\n",
              "<style scoped>\n",
              "    .dataframe tbody tr th:only-of-type {\n",
              "        vertical-align: middle;\n",
              "    }\n",
              "\n",
              "    .dataframe tbody tr th {\n",
              "        vertical-align: top;\n",
              "    }\n",
              "\n",
              "    .dataframe thead th {\n",
              "        text-align: right;\n",
              "    }\n",
              "</style>\n",
              "<table border=\"1\" class=\"dataframe\">\n",
              "  <thead>\n",
              "    <tr style=\"text-align: right;\">\n",
              "      <th></th>\n",
              "      <th>Total Households</th>\n",
              "      <th>No Computer</th>\n",
              "      <th>1+ Computers</th>\n",
              "      <th>district number</th>\n",
              "      <th>State</th>\n",
              "      <th>% of households with no computer</th>\n",
              "      <th>% of households with 1+ computers</th>\n",
              "    </tr>\n",
              "  </thead>\n",
              "  <tbody>\n",
              "    <tr>\n",
              "      <th>0</th>\n",
              "      <td>289474</td>\n",
              "      <td>15425</td>\n",
              "      <td>229568</td>\n",
              "      <td>10</td>\n",
              "      <td>Michigan</td>\n",
              "      <td>5.328631</td>\n",
              "      <td>79.305223</td>\n",
              "    </tr>\n",
              "    <tr>\n",
              "      <th>1</th>\n",
              "      <td>299804</td>\n",
              "      <td>18341</td>\n",
              "      <td>211861</td>\n",
              "      <td>4</td>\n",
              "      <td>Mississippi</td>\n",
              "      <td>6.117664</td>\n",
              "      <td>70.666502</td>\n",
              "    </tr>\n",
              "    <tr>\n",
              "      <th>2</th>\n",
              "      <td>278057</td>\n",
              "      <td>14747</td>\n",
              "      <td>212966</td>\n",
              "      <td>14</td>\n",
              "      <td>Michigan</td>\n",
              "      <td>5.303589</td>\n",
              "      <td>76.590771</td>\n",
              "    </tr>\n",
              "    <tr>\n",
              "      <th>3</th>\n",
              "      <td>306685</td>\n",
              "      <td>21251</td>\n",
              "      <td>234002</td>\n",
              "      <td>1</td>\n",
              "      <td>Michigan</td>\n",
              "      <td>6.929260</td>\n",
              "      <td>76.300439</td>\n",
              "    </tr>\n",
              "    <tr>\n",
              "      <th>4</th>\n",
              "      <td>285554</td>\n",
              "      <td>23272</td>\n",
              "      <td>196641</td>\n",
              "      <td>3</td>\n",
              "      <td>Mississippi</td>\n",
              "      <td>8.149772</td>\n",
              "      <td>68.862982</td>\n",
              "    </tr>\n",
              "  </tbody>\n",
              "</table>\n",
              "</div>\n",
              "      <button class=\"colab-df-convert\" onclick=\"convertToInteractive('df-c661e885-a090-4138-9c16-5defbdad04aa')\"\n",
              "              title=\"Convert this dataframe to an interactive table.\"\n",
              "              style=\"display:none;\">\n",
              "        \n",
              "  <svg xmlns=\"http://www.w3.org/2000/svg\" height=\"24px\"viewBox=\"0 0 24 24\"\n",
              "       width=\"24px\">\n",
              "    <path d=\"M0 0h24v24H0V0z\" fill=\"none\"/>\n",
              "    <path d=\"M18.56 5.44l.94 2.06.94-2.06 2.06-.94-2.06-.94-.94-2.06-.94 2.06-2.06.94zm-11 1L8.5 8.5l.94-2.06 2.06-.94-2.06-.94L8.5 2.5l-.94 2.06-2.06.94zm10 10l.94 2.06.94-2.06 2.06-.94-2.06-.94-.94-2.06-.94 2.06-2.06.94z\"/><path d=\"M17.41 7.96l-1.37-1.37c-.4-.4-.92-.59-1.43-.59-.52 0-1.04.2-1.43.59L10.3 9.45l-7.72 7.72c-.78.78-.78 2.05 0 2.83L4 21.41c.39.39.9.59 1.41.59.51 0 1.02-.2 1.41-.59l7.78-7.78 2.81-2.81c.8-.78.8-2.07 0-2.86zM5.41 20L4 18.59l7.72-7.72 1.47 1.35L5.41 20z\"/>\n",
              "  </svg>\n",
              "      </button>\n",
              "      \n",
              "  <style>\n",
              "    .colab-df-container {\n",
              "      display:flex;\n",
              "      flex-wrap:wrap;\n",
              "      gap: 12px;\n",
              "    }\n",
              "\n",
              "    .colab-df-convert {\n",
              "      background-color: #E8F0FE;\n",
              "      border: none;\n",
              "      border-radius: 50%;\n",
              "      cursor: pointer;\n",
              "      display: none;\n",
              "      fill: #1967D2;\n",
              "      height: 32px;\n",
              "      padding: 0 0 0 0;\n",
              "      width: 32px;\n",
              "    }\n",
              "\n",
              "    .colab-df-convert:hover {\n",
              "      background-color: #E2EBFA;\n",
              "      box-shadow: 0px 1px 2px rgba(60, 64, 67, 0.3), 0px 1px 3px 1px rgba(60, 64, 67, 0.15);\n",
              "      fill: #174EA6;\n",
              "    }\n",
              "\n",
              "    [theme=dark] .colab-df-convert {\n",
              "      background-color: #3B4455;\n",
              "      fill: #D2E3FC;\n",
              "    }\n",
              "\n",
              "    [theme=dark] .colab-df-convert:hover {\n",
              "      background-color: #434B5C;\n",
              "      box-shadow: 0px 1px 3px 1px rgba(0, 0, 0, 0.15);\n",
              "      filter: drop-shadow(0px 1px 2px rgba(0, 0, 0, 0.3));\n",
              "      fill: #FFFFFF;\n",
              "    }\n",
              "  </style>\n",
              "\n",
              "      <script>\n",
              "        const buttonEl =\n",
              "          document.querySelector('#df-c661e885-a090-4138-9c16-5defbdad04aa button.colab-df-convert');\n",
              "        buttonEl.style.display =\n",
              "          google.colab.kernel.accessAllowed ? 'block' : 'none';\n",
              "\n",
              "        async function convertToInteractive(key) {\n",
              "          const element = document.querySelector('#df-c661e885-a090-4138-9c16-5defbdad04aa');\n",
              "          const dataTable =\n",
              "            await google.colab.kernel.invokeFunction('convertToInteractive',\n",
              "                                                     [key], {});\n",
              "          if (!dataTable) return;\n",
              "\n",
              "          const docLinkHtml = 'Like what you see? Visit the ' +\n",
              "            '<a target=\"_blank\" href=https://colab.research.google.com/notebooks/data_table.ipynb>data table notebook</a>'\n",
              "            + ' to learn more about interactive tables.';\n",
              "          element.innerHTML = '';\n",
              "          dataTable['output_type'] = 'display_data';\n",
              "          await google.colab.output.renderOutput(dataTable, element);\n",
              "          const docLink = document.createElement('div');\n",
              "          docLink.innerHTML = docLinkHtml;\n",
              "          element.appendChild(docLink);\n",
              "        }\n",
              "      </script>\n",
              "    </div>\n",
              "  </div>\n",
              "  "
            ]
          },
          "metadata": {},
          "execution_count": 3
        }
      ]
    },
    {
      "cell_type": "markdown",
      "source": [
        "# Political Affiliation Data"
      ],
      "metadata": {
        "id": "tR9Te-DdMSyn"
      }
    },
    {
      "cell_type": "code",
      "source": [
        "# Reading Congressional Data into Pandas Dataframe\n",
        "party_df = pd.read_csv(\"http://goodcsv.com/wp-content/uploads/2020/08/us-house-of-representatives-2020.csv\", encoding = \"ISO-8859-1\")\n",
        "\n",
        "# Extracting District Number\n",
        "party_df['district number'] = party_df['District/Position'].str.extract('(\\d+)')\n",
        "party_df['district number'] = party_df['district number'].fillna(0)\n",
        "party_df['district number'] = pd.to_numeric(party_df['district number'])\n",
        "party_df['State'] = party_df['State/Territory']\n",
        "party_df['State'] = party_df['State'].str.strip()\n",
        "party_df['Party'] = party_df['Party'].str.strip() # remove extraneous whitespace\n",
        "\n",
        "# Keeping Our Selected Columns\n",
        "party_df = party_df[['State', 'Party', \"district number\"]]\n",
        "\n",
        "# Looking at the Top Results\n",
        "party_df.head(5)"
      ],
      "metadata": {
        "colab": {
          "base_uri": "https://localhost:8080/",
          "height": 204
        },
        "id": "U5VFijcWEsMA",
        "outputId": "076fe7f1-ac08-42b6-964e-26f70c6fc922"
      },
      "execution_count": null,
      "outputs": [
        {
          "output_type": "execute_result",
          "data": {
            "text/plain": [
              "            State Party  district number\n",
              "0       Louisiana     R                5\n",
              "1  North Carolina     D               12\n",
              "2         Alabama     R                4\n",
              "3      California     D               31\n",
              "4         Georgia     R               12"
            ],
            "text/html": [
              "\n",
              "  <div id=\"df-5411e3a1-d3c9-4393-a983-3a196fd9bcf2\">\n",
              "    <div class=\"colab-df-container\">\n",
              "      <div>\n",
              "<style scoped>\n",
              "    .dataframe tbody tr th:only-of-type {\n",
              "        vertical-align: middle;\n",
              "    }\n",
              "\n",
              "    .dataframe tbody tr th {\n",
              "        vertical-align: top;\n",
              "    }\n",
              "\n",
              "    .dataframe thead th {\n",
              "        text-align: right;\n",
              "    }\n",
              "</style>\n",
              "<table border=\"1\" class=\"dataframe\">\n",
              "  <thead>\n",
              "    <tr style=\"text-align: right;\">\n",
              "      <th></th>\n",
              "      <th>State</th>\n",
              "      <th>Party</th>\n",
              "      <th>district number</th>\n",
              "    </tr>\n",
              "  </thead>\n",
              "  <tbody>\n",
              "    <tr>\n",
              "      <th>0</th>\n",
              "      <td>Louisiana</td>\n",
              "      <td>R</td>\n",
              "      <td>5</td>\n",
              "    </tr>\n",
              "    <tr>\n",
              "      <th>1</th>\n",
              "      <td>North Carolina</td>\n",
              "      <td>D</td>\n",
              "      <td>12</td>\n",
              "    </tr>\n",
              "    <tr>\n",
              "      <th>2</th>\n",
              "      <td>Alabama</td>\n",
              "      <td>R</td>\n",
              "      <td>4</td>\n",
              "    </tr>\n",
              "    <tr>\n",
              "      <th>3</th>\n",
              "      <td>California</td>\n",
              "      <td>D</td>\n",
              "      <td>31</td>\n",
              "    </tr>\n",
              "    <tr>\n",
              "      <th>4</th>\n",
              "      <td>Georgia</td>\n",
              "      <td>R</td>\n",
              "      <td>12</td>\n",
              "    </tr>\n",
              "  </tbody>\n",
              "</table>\n",
              "</div>\n",
              "      <button class=\"colab-df-convert\" onclick=\"convertToInteractive('df-5411e3a1-d3c9-4393-a983-3a196fd9bcf2')\"\n",
              "              title=\"Convert this dataframe to an interactive table.\"\n",
              "              style=\"display:none;\">\n",
              "        \n",
              "  <svg xmlns=\"http://www.w3.org/2000/svg\" height=\"24px\"viewBox=\"0 0 24 24\"\n",
              "       width=\"24px\">\n",
              "    <path d=\"M0 0h24v24H0V0z\" fill=\"none\"/>\n",
              "    <path d=\"M18.56 5.44l.94 2.06.94-2.06 2.06-.94-2.06-.94-.94-2.06-.94 2.06-2.06.94zm-11 1L8.5 8.5l.94-2.06 2.06-.94-2.06-.94L8.5 2.5l-.94 2.06-2.06.94zm10 10l.94 2.06.94-2.06 2.06-.94-2.06-.94-.94-2.06-.94 2.06-2.06.94z\"/><path d=\"M17.41 7.96l-1.37-1.37c-.4-.4-.92-.59-1.43-.59-.52 0-1.04.2-1.43.59L10.3 9.45l-7.72 7.72c-.78.78-.78 2.05 0 2.83L4 21.41c.39.39.9.59 1.41.59.51 0 1.02-.2 1.41-.59l7.78-7.78 2.81-2.81c.8-.78.8-2.07 0-2.86zM5.41 20L4 18.59l7.72-7.72 1.47 1.35L5.41 20z\"/>\n",
              "  </svg>\n",
              "      </button>\n",
              "      \n",
              "  <style>\n",
              "    .colab-df-container {\n",
              "      display:flex;\n",
              "      flex-wrap:wrap;\n",
              "      gap: 12px;\n",
              "    }\n",
              "\n",
              "    .colab-df-convert {\n",
              "      background-color: #E8F0FE;\n",
              "      border: none;\n",
              "      border-radius: 50%;\n",
              "      cursor: pointer;\n",
              "      display: none;\n",
              "      fill: #1967D2;\n",
              "      height: 32px;\n",
              "      padding: 0 0 0 0;\n",
              "      width: 32px;\n",
              "    }\n",
              "\n",
              "    .colab-df-convert:hover {\n",
              "      background-color: #E2EBFA;\n",
              "      box-shadow: 0px 1px 2px rgba(60, 64, 67, 0.3), 0px 1px 3px 1px rgba(60, 64, 67, 0.15);\n",
              "      fill: #174EA6;\n",
              "    }\n",
              "\n",
              "    [theme=dark] .colab-df-convert {\n",
              "      background-color: #3B4455;\n",
              "      fill: #D2E3FC;\n",
              "    }\n",
              "\n",
              "    [theme=dark] .colab-df-convert:hover {\n",
              "      background-color: #434B5C;\n",
              "      box-shadow: 0px 1px 3px 1px rgba(0, 0, 0, 0.15);\n",
              "      filter: drop-shadow(0px 1px 2px rgba(0, 0, 0, 0.3));\n",
              "      fill: #FFFFFF;\n",
              "    }\n",
              "  </style>\n",
              "\n",
              "      <script>\n",
              "        const buttonEl =\n",
              "          document.querySelector('#df-5411e3a1-d3c9-4393-a983-3a196fd9bcf2 button.colab-df-convert');\n",
              "        buttonEl.style.display =\n",
              "          google.colab.kernel.accessAllowed ? 'block' : 'none';\n",
              "\n",
              "        async function convertToInteractive(key) {\n",
              "          const element = document.querySelector('#df-5411e3a1-d3c9-4393-a983-3a196fd9bcf2');\n",
              "          const dataTable =\n",
              "            await google.colab.kernel.invokeFunction('convertToInteractive',\n",
              "                                                     [key], {});\n",
              "          if (!dataTable) return;\n",
              "\n",
              "          const docLinkHtml = 'Like what you see? Visit the ' +\n",
              "            '<a target=\"_blank\" href=https://colab.research.google.com/notebooks/data_table.ipynb>data table notebook</a>'\n",
              "            + ' to learn more about interactive tables.';\n",
              "          element.innerHTML = '';\n",
              "          dataTable['output_type'] = 'display_data';\n",
              "          await google.colab.output.renderOutput(dataTable, element);\n",
              "          const docLink = document.createElement('div');\n",
              "          docLink.innerHTML = docLinkHtml;\n",
              "          element.appendChild(docLink);\n",
              "        }\n",
              "      </script>\n",
              "    </div>\n",
              "  </div>\n",
              "  "
            ]
          },
          "metadata": {},
          "execution_count": 4
        }
      ]
    },
    {
      "cell_type": "code",
      "source": [
        "# Checking the Join Worked\n",
        "party_df['State'].value_counts()"
      ],
      "metadata": {
        "colab": {
          "base_uri": "https://localhost:8080/"
        },
        "id": "7L2GhhHWMEGp",
        "outputId": "58faed55-f3b5-4f56-ef54-bbde6192fd59"
      },
      "execution_count": null,
      "outputs": [
        {
          "output_type": "execute_result",
          "data": {
            "text/plain": [
              "California                  53\n",
              "Texas                       36\n",
              "New York                    27\n",
              "Florida                     27\n",
              "Pennsylvania                18\n",
              "Illinois                    18\n",
              "Ohio                        16\n",
              "Michigan                    14\n",
              "Georgia                     14\n",
              "North Carolina              13\n",
              "New Jersey                  12\n",
              "Virginia                    11\n",
              "Washington                  10\n",
              "Indiana                      9\n",
              "Arizona                      9\n",
              "Tennessee                    9\n",
              "Massachusetts                9\n",
              "Minnesota                    8\n",
              "Missouri                     8\n",
              "Maryland                     8\n",
              "Wisconsin                    8\n",
              "Colorado                     7\n",
              "Alabama                      7\n",
              "South Carolina               7\n",
              "Louisiana                    6\n",
              "Kentucky                     6\n",
              "Oklahoma                     5\n",
              "Oregon                       5\n",
              "Connecticut                  5\n",
              "Nevada                       4\n",
              "Kansas                       4\n",
              "Arkansas                     4\n",
              "Iowa                         4\n",
              "Mississippi                  4\n",
              "Utah                         4\n",
              "West Virginia                3\n",
              "Nebraska                     3\n",
              "New Mexico                   3\n",
              "New Hampshire                2\n",
              "Maine                        2\n",
              "Rhode Island                 2\n",
              "Idaho                        2\n",
              "Hawaii                       2\n",
              "Montana                      1\n",
              "Puerto Rico                  1\n",
              "Wyoming                      1\n",
              "South Dakota                 1\n",
              "Delaware                     1\n",
              "North Dakota                 1\n",
              "District of Columbia         1\n",
              "Virgin Islands               1\n",
              "American Samoa               1\n",
              "Northern Mariana Islands     1\n",
              "Guam                         1\n",
              "Vermont                      1\n",
              "Alaska                       1\n",
              "Name: State, dtype: int64"
            ]
          },
          "metadata": {},
          "execution_count": 5
        }
      ]
    },
    {
      "cell_type": "code",
      "source": [
        "# Checking the Join Worked\n",
        "acs_df['State'].value_counts()"
      ],
      "metadata": {
        "colab": {
          "base_uri": "https://localhost:8080/"
        },
        "id": "uVUeS8H_MJlJ",
        "outputId": "22b9ac34-8638-44ac-fde8-7f4df55918c6"
      },
      "execution_count": null,
      "outputs": [
        {
          "output_type": "execute_result",
          "data": {
            "text/plain": [
              "California              53\n",
              "Texas                   36\n",
              "Florida                 27\n",
              "New York                27\n",
              "Illinois                18\n",
              "Pennsylvania            18\n",
              "Ohio                    16\n",
              "Georgia                 14\n",
              "Michigan                14\n",
              "North Carolina          13\n",
              "New Jersey              12\n",
              "Virginia                11\n",
              "Washington              10\n",
              "Indiana                  9\n",
              "Massachusetts            9\n",
              "Arizona                  9\n",
              "Tennessee                9\n",
              "Missouri                 8\n",
              "Wisconsin                8\n",
              "Minnesota                8\n",
              "Maryland                 8\n",
              "South Carolina           7\n",
              "Alabama                  7\n",
              "Colorado                 7\n",
              "Kentucky                 6\n",
              "Louisiana                6\n",
              "Connecticut              5\n",
              "Oklahoma                 5\n",
              "Oregon                   5\n",
              "Iowa                     4\n",
              "Kansas                   4\n",
              "Arkansas                 4\n",
              "Mississippi              4\n",
              "Nevada                   4\n",
              "Utah                     4\n",
              "New Mexico               3\n",
              "West Virginia            3\n",
              "Nebraska                 3\n",
              "Rhode Island             2\n",
              "New Hampshire            2\n",
              "Hawaii                   2\n",
              "Idaho                    2\n",
              "Maine                    2\n",
              "South Dakota             1\n",
              "Wyoming                  1\n",
              "Alaska                   1\n",
              "Montana                  1\n",
              "North Dakota             1\n",
              "Vermont                  1\n",
              "Delaware                 1\n",
              "Puerto Rico              1\n",
              "District of Columbia     1\n",
              "Name: State, dtype: int64"
            ]
          },
          "metadata": {},
          "execution_count": 6
        }
      ]
    },
    {
      "cell_type": "markdown",
      "source": [
        "# Merging the Data"
      ],
      "metadata": {
        "id": "VsE4qlsSMUi5"
      }
    },
    {
      "cell_type": "code",
      "source": [
        "# Merging our Data\n",
        "merged_df = pd.merge(acs_df, party_df, on=[\"State\", \"district number\"])"
      ],
      "metadata": {
        "id": "Ne_H1E2MMYBU"
      },
      "execution_count": null,
      "outputs": []
    },
    {
      "cell_type": "code",
      "source": [
        "# Summary of our New Merged Data\n",
        "merged_df.describe()"
      ],
      "metadata": {
        "colab": {
          "base_uri": "https://localhost:8080/",
          "height": 297
        },
        "id": "nMVNF7YUMad3",
        "outputId": "9c53a811-795c-406d-8337-49800bf7b7d6"
      },
      "execution_count": null,
      "outputs": [
        {
          "output_type": "execute_result",
          "data": {
            "text/plain": [
              "       Total Households   No Computer   1+ Computers  district number  \\\n",
              "count        435.000000    435.000000     435.000000       435.000000   \n",
              "mean      292471.643678  14503.786207  235438.358621        10.158621   \n",
              "std        33670.787672   5817.363063   37118.515775        10.656779   \n",
              "min       183319.000000   3320.000000  125227.000000         0.000000   \n",
              "25%       273747.000000   9984.500000  211701.500000         3.000000   \n",
              "50%       292311.000000  14180.000000  235902.000000         6.000000   \n",
              "75%       311849.500000  18238.000000  256530.000000        13.000000   \n",
              "max       448949.000000  32899.000000  363544.000000        53.000000   \n",
              "\n",
              "       % of households with no computer  % of households with 1+ computers  \n",
              "count                        435.000000                         435.000000  \n",
              "mean                           5.006509                          80.304523  \n",
              "std                            2.084671                           6.674607  \n",
              "min                            1.138374                          61.784249  \n",
              "25%                            3.448547                          76.201699  \n",
              "50%                            4.738514                          80.452196  \n",
              "75%                            6.256504                          85.494150  \n",
              "max                           12.741596                          93.218512  "
            ],
            "text/html": [
              "\n",
              "  <div id=\"df-f131e9e9-e8ce-4868-b8d1-13ad4c97db84\">\n",
              "    <div class=\"colab-df-container\">\n",
              "      <div>\n",
              "<style scoped>\n",
              "    .dataframe tbody tr th:only-of-type {\n",
              "        vertical-align: middle;\n",
              "    }\n",
              "\n",
              "    .dataframe tbody tr th {\n",
              "        vertical-align: top;\n",
              "    }\n",
              "\n",
              "    .dataframe thead th {\n",
              "        text-align: right;\n",
              "    }\n",
              "</style>\n",
              "<table border=\"1\" class=\"dataframe\">\n",
              "  <thead>\n",
              "    <tr style=\"text-align: right;\">\n",
              "      <th></th>\n",
              "      <th>Total Households</th>\n",
              "      <th>No Computer</th>\n",
              "      <th>1+ Computers</th>\n",
              "      <th>district number</th>\n",
              "      <th>% of households with no computer</th>\n",
              "      <th>% of households with 1+ computers</th>\n",
              "    </tr>\n",
              "  </thead>\n",
              "  <tbody>\n",
              "    <tr>\n",
              "      <th>count</th>\n",
              "      <td>435.000000</td>\n",
              "      <td>435.000000</td>\n",
              "      <td>435.000000</td>\n",
              "      <td>435.000000</td>\n",
              "      <td>435.000000</td>\n",
              "      <td>435.000000</td>\n",
              "    </tr>\n",
              "    <tr>\n",
              "      <th>mean</th>\n",
              "      <td>292471.643678</td>\n",
              "      <td>14503.786207</td>\n",
              "      <td>235438.358621</td>\n",
              "      <td>10.158621</td>\n",
              "      <td>5.006509</td>\n",
              "      <td>80.304523</td>\n",
              "    </tr>\n",
              "    <tr>\n",
              "      <th>std</th>\n",
              "      <td>33670.787672</td>\n",
              "      <td>5817.363063</td>\n",
              "      <td>37118.515775</td>\n",
              "      <td>10.656779</td>\n",
              "      <td>2.084671</td>\n",
              "      <td>6.674607</td>\n",
              "    </tr>\n",
              "    <tr>\n",
              "      <th>min</th>\n",
              "      <td>183319.000000</td>\n",
              "      <td>3320.000000</td>\n",
              "      <td>125227.000000</td>\n",
              "      <td>0.000000</td>\n",
              "      <td>1.138374</td>\n",
              "      <td>61.784249</td>\n",
              "    </tr>\n",
              "    <tr>\n",
              "      <th>25%</th>\n",
              "      <td>273747.000000</td>\n",
              "      <td>9984.500000</td>\n",
              "      <td>211701.500000</td>\n",
              "      <td>3.000000</td>\n",
              "      <td>3.448547</td>\n",
              "      <td>76.201699</td>\n",
              "    </tr>\n",
              "    <tr>\n",
              "      <th>50%</th>\n",
              "      <td>292311.000000</td>\n",
              "      <td>14180.000000</td>\n",
              "      <td>235902.000000</td>\n",
              "      <td>6.000000</td>\n",
              "      <td>4.738514</td>\n",
              "      <td>80.452196</td>\n",
              "    </tr>\n",
              "    <tr>\n",
              "      <th>75%</th>\n",
              "      <td>311849.500000</td>\n",
              "      <td>18238.000000</td>\n",
              "      <td>256530.000000</td>\n",
              "      <td>13.000000</td>\n",
              "      <td>6.256504</td>\n",
              "      <td>85.494150</td>\n",
              "    </tr>\n",
              "    <tr>\n",
              "      <th>max</th>\n",
              "      <td>448949.000000</td>\n",
              "      <td>32899.000000</td>\n",
              "      <td>363544.000000</td>\n",
              "      <td>53.000000</td>\n",
              "      <td>12.741596</td>\n",
              "      <td>93.218512</td>\n",
              "    </tr>\n",
              "  </tbody>\n",
              "</table>\n",
              "</div>\n",
              "      <button class=\"colab-df-convert\" onclick=\"convertToInteractive('df-f131e9e9-e8ce-4868-b8d1-13ad4c97db84')\"\n",
              "              title=\"Convert this dataframe to an interactive table.\"\n",
              "              style=\"display:none;\">\n",
              "        \n",
              "  <svg xmlns=\"http://www.w3.org/2000/svg\" height=\"24px\"viewBox=\"0 0 24 24\"\n",
              "       width=\"24px\">\n",
              "    <path d=\"M0 0h24v24H0V0z\" fill=\"none\"/>\n",
              "    <path d=\"M18.56 5.44l.94 2.06.94-2.06 2.06-.94-2.06-.94-.94-2.06-.94 2.06-2.06.94zm-11 1L8.5 8.5l.94-2.06 2.06-.94-2.06-.94L8.5 2.5l-.94 2.06-2.06.94zm10 10l.94 2.06.94-2.06 2.06-.94-2.06-.94-.94-2.06-.94 2.06-2.06.94z\"/><path d=\"M17.41 7.96l-1.37-1.37c-.4-.4-.92-.59-1.43-.59-.52 0-1.04.2-1.43.59L10.3 9.45l-7.72 7.72c-.78.78-.78 2.05 0 2.83L4 21.41c.39.39.9.59 1.41.59.51 0 1.02-.2 1.41-.59l7.78-7.78 2.81-2.81c.8-.78.8-2.07 0-2.86zM5.41 20L4 18.59l7.72-7.72 1.47 1.35L5.41 20z\"/>\n",
              "  </svg>\n",
              "      </button>\n",
              "      \n",
              "  <style>\n",
              "    .colab-df-container {\n",
              "      display:flex;\n",
              "      flex-wrap:wrap;\n",
              "      gap: 12px;\n",
              "    }\n",
              "\n",
              "    .colab-df-convert {\n",
              "      background-color: #E8F0FE;\n",
              "      border: none;\n",
              "      border-radius: 50%;\n",
              "      cursor: pointer;\n",
              "      display: none;\n",
              "      fill: #1967D2;\n",
              "      height: 32px;\n",
              "      padding: 0 0 0 0;\n",
              "      width: 32px;\n",
              "    }\n",
              "\n",
              "    .colab-df-convert:hover {\n",
              "      background-color: #E2EBFA;\n",
              "      box-shadow: 0px 1px 2px rgba(60, 64, 67, 0.3), 0px 1px 3px 1px rgba(60, 64, 67, 0.15);\n",
              "      fill: #174EA6;\n",
              "    }\n",
              "\n",
              "    [theme=dark] .colab-df-convert {\n",
              "      background-color: #3B4455;\n",
              "      fill: #D2E3FC;\n",
              "    }\n",
              "\n",
              "    [theme=dark] .colab-df-convert:hover {\n",
              "      background-color: #434B5C;\n",
              "      box-shadow: 0px 1px 3px 1px rgba(0, 0, 0, 0.15);\n",
              "      filter: drop-shadow(0px 1px 2px rgba(0, 0, 0, 0.3));\n",
              "      fill: #FFFFFF;\n",
              "    }\n",
              "  </style>\n",
              "\n",
              "      <script>\n",
              "        const buttonEl =\n",
              "          document.querySelector('#df-f131e9e9-e8ce-4868-b8d1-13ad4c97db84 button.colab-df-convert');\n",
              "        buttonEl.style.display =\n",
              "          google.colab.kernel.accessAllowed ? 'block' : 'none';\n",
              "\n",
              "        async function convertToInteractive(key) {\n",
              "          const element = document.querySelector('#df-f131e9e9-e8ce-4868-b8d1-13ad4c97db84');\n",
              "          const dataTable =\n",
              "            await google.colab.kernel.invokeFunction('convertToInteractive',\n",
              "                                                     [key], {});\n",
              "          if (!dataTable) return;\n",
              "\n",
              "          const docLinkHtml = 'Like what you see? Visit the ' +\n",
              "            '<a target=\"_blank\" href=https://colab.research.google.com/notebooks/data_table.ipynb>data table notebook</a>'\n",
              "            + ' to learn more about interactive tables.';\n",
              "          element.innerHTML = '';\n",
              "          dataTable['output_type'] = 'display_data';\n",
              "          await google.colab.output.renderOutput(dataTable, element);\n",
              "          const docLink = document.createElement('div');\n",
              "          docLink.innerHTML = docLinkHtml;\n",
              "          element.appendChild(docLink);\n",
              "        }\n",
              "      </script>\n",
              "    </div>\n",
              "  </div>\n",
              "  "
            ]
          },
          "metadata": {},
          "execution_count": 8
        }
      ]
    },
    {
      "cell_type": "code",
      "source": [
        "# Checking Party Breakdown\n",
        "merged_df['Party'].value_counts()"
      ],
      "metadata": {
        "colab": {
          "base_uri": "https://localhost:8080/"
        },
        "id": "Jir_CM7iMiSH",
        "outputId": "f99d1a46-1801-4fce-9c95-c5dc08288962"
      },
      "execution_count": null,
      "outputs": [
        {
          "output_type": "execute_result",
          "data": {
            "text/plain": [
              "D    233\n",
              "R    201\n",
              "L      1\n",
              "Name: Party, dtype: int64"
            ]
          },
          "metadata": {},
          "execution_count": 9
        }
      ]
    },
    {
      "cell_type": "markdown",
      "source": [
        "# Visualization"
      ],
      "metadata": {
        "id": "yMuguYEqQ49_"
      }
    },
    {
      "cell_type": "code",
      "source": [
        "R = merged_df[merged_df['Party'].str.contains('R')]\n",
        "D = merged_df[merged_df['Party'].str.contains('D')]\n",
        "L = merged_df[merged_df['Party'].str.contains('L')]\n",
        "\n",
        "fig, ax = plt.subplots(figsize=(15, 12))\n",
        "R.plot.scatter(x='% of households with 1+ computers', y='% of households with no computer', c='red',label='Republican', ax=ax)\n",
        "D.plot.scatter(x='% of households with 1+ computers', y='% of households with no computer',c='blue',label='Democrat', ax=ax)\n",
        "L.plot.scatter(x='% of households with 1+ computers', y='% of households with no computer',c='gold',label='Libertarian', ax=ax)\n",
        "\n",
        "plt.legend()\n",
        "plt.show()"
      ],
      "metadata": {
        "colab": {
          "base_uri": "https://localhost:8080/",
          "height": 714
        },
        "id": "thLdVulREsj1",
        "outputId": "da4176fe-7cf2-4c66-91c7-2c0fbceb9a60"
      },
      "execution_count": null,
      "outputs": [
        {
          "output_type": "display_data",
          "data": {
            "text/plain": [
              "<Figure size 1080x864 with 1 Axes>"
            ],
            "image/png": "[encoded data removed]"
          },
          "metadata": {
            "needs_background": "light"
          }
        }
      ]
    },
    {
      "cell_type": "markdown",
      "source": [
        "# Findings\n"
      ],
      "metadata": {
        "id": "5BTUF-khEfCh"
      }
    },
    {
      "cell_type": "markdown",
      "source": [
        "At a first glance, the scatterplot above does not appear to show a particularly strong correlation between computers owned and political affiliation. However, we can see that the bottom right region of the graph, districts with a high percentage of households with 1+ computers and a low percentage of households with no computer, is mostly populated with blue dots. This correlation supports our hypothesis that districts with a high percentage of households having 1+ computers tend to be democratic."
      ],
      "metadata": {
        "id": "yLscmWSHVN2u"
      }
    },
    {
      "cell_type": "markdown",
      "source": [
        "Further analysis could be conducted to potentially find a stronger correlation between politcal affiliation and the presence of technology in the household. For instance, perhaps increasing the number of computers in the household from simply 1 or more would show a greater contrast (zero versus 3+ for instance). Taking into account other devices such as smartphones or tablets could also yield some interesting results. Adding in an additional factor such as access to the internet would likely provide more insight to the relationship as well. "
      ],
      "metadata": {
        "id": "q6nQW_qnM2xi"
      }
    }
  ]
}