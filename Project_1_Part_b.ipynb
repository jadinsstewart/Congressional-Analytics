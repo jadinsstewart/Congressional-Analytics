{
  "nbformat": 4,
  "nbformat_minor": 0,
  "metadata": {
    "colab": {
      "provenance": [],
      "include_colab_link": true
    },
    "kernelspec": {
      "name": "python3",
      "display_name": "Python 3"
    },
    "language_info": {
      "name": "python"
    }
  },
  "cells": [
    {
      "cell_type": "markdown",
      "metadata": {
        "id": "view-in-github",
        "colab_type": "text"
      },
      "source": [
        "<a href=\"https://colab.research.google.com/github/jadinsstewart/Congressional-Analytics/blob/main/Project_1_Part_b.ipynb\" target=\"_parent\"><img src=\"https://colab.research.google.com/assets/colab-badge.svg\" alt=\"Open In Colab\"/></a>"
      ]
    },
    {
      "cell_type": "markdown",
      "source": [
        "<h1><center> Analysis Comparing Political Affiliation and Household Internet Access </center></h1>"
      ],
      "metadata": {
        "id": "9vXYDikAQIUk"
      }
    },
    {
      "cell_type": "markdown",
      "source": [
        "Ella Archie (earchie@calpoly.edu)\n",
        "\n",
        "Jadin Stewart (jsstewar@calpoly.edu)\n",
        "\n",
        "February 5th, 2023"
      ],
      "metadata": {
        "id": "9yZmckTGQGRS"
      }
    },
    {
      "cell_type": "markdown",
      "source": [
        "# Introduction"
      ],
      "metadata": {
        "id": "dJUffpsqQ-8P"
      }
    },
    {
      "cell_type": "markdown",
      "source": [
        "Last week, we presented our analysis comparing district political affiliation and the percentage of households owning at least one computer in that district. While we found evidence to support our hypothesis that districts with a high percentage of households having 1+ computers tend to be democratic, we were left with a few questions we wanted to further investigate."
      ],
      "metadata": {
        "id": "sxNbbcTwRADi"
      }
    },
    {
      "cell_type": "markdown",
      "source": [
        "To further our investigation, we will narrow in on households who own a computer. We will compare the % of households per district with a computer and broadband internet access and the % of households per district with a computer but no internet access to political affiliation."
      ],
      "metadata": {
        "id": "JFJJdetcSc5m"
      }
    },
    {
      "cell_type": "markdown",
      "source": [
        "# About"
      ],
      "metadata": {
        "id": "EWJH0hQzSIki"
      }
    },
    {
      "cell_type": "markdown",
      "source": [
        "For our analysis we utilized data from the following sources: \n",
        "\n",
        "Party affiliation of each congressional district: https://www.house.gov/representatives (in csv format: http://goodcsv.com/politics/us-house-of-representatives-2020/ )  \n",
        "\n",
        "\n",
        "American Community Survey 2021 dataset available from census.gov. The data is available via API from here: https://www.census.gov/data/developers/data-sets/acs-1year.html and the 2021 variable information can be found here:\n",
        "https://api.census.gov/data/2021/acs/acs1/variables.html\n",
        "\n",
        "Census term definitions: https://www2.census.gov/programs-surveys/acs/tech_docs/subject_definitions/2020_ACSSubjectDefinitions.pdf\n",
        "\n",
        "\n",
        "For the purpose of our analysis, we've removed libertarian given the low sample size (n=1)"
      ],
      "metadata": {
        "id": "8gPK7Er2SJr3"
      }
    },
    {
      "cell_type": "markdown",
      "source": [
        "# Hypothesis"
      ],
      "metadata": {
        "id": "GlsOTmQuRBC_"
      }
    },
    {
      "cell_type": "markdown",
      "source": [
        "Based on our prior findings that access to a computer within the household corresponds to more democratic leaning districts, we predict that districts with high percentages of households that have a computer but no internet access are more likely to be republican, while districts with higher percentages of households with internet access at home will tend to be democratic. "
      ],
      "metadata": {
        "id": "jZIEq23PRHLq"
      }
    },
    {
      "cell_type": "markdown",
      "source": [
        "# ACS Data"
      ],
      "metadata": {
        "id": "1B_NT_0wRHWm"
      }
    },
    {
      "cell_type": "code",
      "source": [
        "# Libraries\n",
        "import pandas as pd  \n",
        "import json \n",
        "from urllib.request import urlopen \n",
        "import matplotlib.pyplot as plt \n",
        "import seaborn as sns\n",
        "import numpy as np"
      ],
      "metadata": {
        "id": "Apr9W67IV8GK"
      },
      "execution_count": null,
      "outputs": []
    },
    {
      "cell_type": "code",
      "source": [
        "# URL for ACS Computer Data\n",
        "url=\"https://api.census.gov/data/2021/acs/acs1?get=NAME,B19001_001E,B28003_004E,B28003_005E&for=congressional%20district:*&in=state:*\"\n",
        "\n",
        "# Storing the Response of the URL\n",
        "response = urlopen(url)\n",
        "\n",
        "# Storing JSON Response from URL in Data\n",
        "data_json = json.loads(response.read()) \n",
        "\n",
        "# Removing the First Row (Headers)\n",
        "data_json.pop(0)\n",
        "\n",
        "# Manually Populating Columns\n",
        "cols = ['District Name','Total Households','Computer with Broadband Internet', 'Computer with No Internet', 'State code', 'district number']\n",
        "\n",
        "acs_df = pd.DataFrame(data_json, columns = cols)\n",
        "\n",
        "# Cleaning the Data\n",
        "acs_df[['District', 'State']] = acs_df['District Name'].str.split(',', expand=True) \n",
        "acs_df['district number'] = pd.to_numeric(acs_df['district number'])\n",
        "acs_df['State'] = acs_df['State'].str.strip()\n",
        "\n",
        "# Keeping Only Our Selected Columns\n",
        "acs_df = acs_df[['Total Households', 'Computer with Broadband Internet', \"Computer with No Internet\", 'district number', 'State']]\n",
        "\n",
        "# Looking at the Top Results\n",
        "acs_df.head()"
      ],
      "metadata": {
        "colab": {
          "base_uri": "https://localhost:8080/",
          "height": 206
        },
        "id": "usc4ULY8V86B",
        "outputId": "03471de6-c749-4486-c47c-48335d950024"
      },
      "execution_count": null,
      "outputs": [
        {
          "output_type": "execute_result",
          "data": {
            "text/plain": [
              "  Total Households Computer with Broadband Internet Computer with No Internet  \\\n",
              "0           287768                           239824                     24786   \n",
              "1           267988                           220902                     25098   \n",
              "2           285773                           239847                     24411   \n",
              "3           265042                           213249                     26308   \n",
              "4           312227                           270312                     20398   \n",
              "\n",
              "   district number    State  \n",
              "0                1  Alabama  \n",
              "1                2  Alabama  \n",
              "2                3  Alabama  \n",
              "3                4  Alabama  \n",
              "4                5  Alabama  "
            ],
            "text/html": [
              "\n",
              "  <div id=\"df-33e16549-d21c-45b8-9678-914f3201f9c6\">\n",
              "    <div class=\"colab-df-container\">\n",
              "      <div>\n",
              "<style scoped>\n",
              "    .dataframe tbody tr th:only-of-type {\n",
              "        vertical-align: middle;\n",
              "    }\n",
              "\n",
              "    .dataframe tbody tr th {\n",
              "        vertical-align: top;\n",
              "    }\n",
              "\n",
              "    .dataframe thead th {\n",
              "        text-align: right;\n",
              "    }\n",
              "</style>\n",
              "<table border=\"1\" class=\"dataframe\">\n",
              "  <thead>\n",
              "    <tr style=\"text-align: right;\">\n",
              "      <th></th>\n",
              "      <th>Total Households</th>\n",
              "      <th>Computer with Broadband Internet</th>\n",
              "      <th>Computer with No Internet</th>\n",
              "      <th>district number</th>\n",
              "      <th>State</th>\n",
              "    </tr>\n",
              "  </thead>\n",
              "  <tbody>\n",
              "    <tr>\n",
              "      <th>0</th>\n",
              "      <td>287768</td>\n",
              "      <td>239824</td>\n",
              "      <td>24786</td>\n",
              "      <td>1</td>\n",
              "      <td>Alabama</td>\n",
              "    </tr>\n",
              "    <tr>\n",
              "      <th>1</th>\n",
              "      <td>267988</td>\n",
              "      <td>220902</td>\n",
              "      <td>25098</td>\n",
              "      <td>2</td>\n",
              "      <td>Alabama</td>\n",
              "    </tr>\n",
              "    <tr>\n",
              "      <th>2</th>\n",
              "      <td>285773</td>\n",
              "      <td>239847</td>\n",
              "      <td>24411</td>\n",
              "      <td>3</td>\n",
              "      <td>Alabama</td>\n",
              "    </tr>\n",
              "    <tr>\n",
              "      <th>3</th>\n",
              "      <td>265042</td>\n",
              "      <td>213249</td>\n",
              "      <td>26308</td>\n",
              "      <td>4</td>\n",
              "      <td>Alabama</td>\n",
              "    </tr>\n",
              "    <tr>\n",
              "      <th>4</th>\n",
              "      <td>312227</td>\n",
              "      <td>270312</td>\n",
              "      <td>20398</td>\n",
              "      <td>5</td>\n",
              "      <td>Alabama</td>\n",
              "    </tr>\n",
              "  </tbody>\n",
              "</table>\n",
              "</div>\n",
              "      <button class=\"colab-df-convert\" onclick=\"convertToInteractive('df-33e16549-d21c-45b8-9678-914f3201f9c6')\"\n",
              "              title=\"Convert this dataframe to an interactive table.\"\n",
              "              style=\"display:none;\">\n",
              "        \n",
              "  <svg xmlns=\"http://www.w3.org/2000/svg\" height=\"24px\"viewBox=\"0 0 24 24\"\n",
              "       width=\"24px\">\n",
              "    <path d=\"M0 0h24v24H0V0z\" fill=\"none\"/>\n",
              "    <path d=\"M18.56 5.44l.94 2.06.94-2.06 2.06-.94-2.06-.94-.94-2.06-.94 2.06-2.06.94zm-11 1L8.5 8.5l.94-2.06 2.06-.94-2.06-.94L8.5 2.5l-.94 2.06-2.06.94zm10 10l.94 2.06.94-2.06 2.06-.94-2.06-.94-.94-2.06-.94 2.06-2.06.94z\"/><path d=\"M17.41 7.96l-1.37-1.37c-.4-.4-.92-.59-1.43-.59-.52 0-1.04.2-1.43.59L10.3 9.45l-7.72 7.72c-.78.78-.78 2.05 0 2.83L4 21.41c.39.39.9.59 1.41.59.51 0 1.02-.2 1.41-.59l7.78-7.78 2.81-2.81c.8-.78.8-2.07 0-2.86zM5.41 20L4 18.59l7.72-7.72 1.47 1.35L5.41 20z\"/>\n",
              "  </svg>\n",
              "      </button>\n",
              "      \n",
              "  <style>\n",
              "    .colab-df-container {\n",
              "      display:flex;\n",
              "      flex-wrap:wrap;\n",
              "      gap: 12px;\n",
              "    }\n",
              "\n",
              "    .colab-df-convert {\n",
              "      background-color: #E8F0FE;\n",
              "      border: none;\n",
              "      border-radius: 50%;\n",
              "      cursor: pointer;\n",
              "      display: none;\n",
              "      fill: #1967D2;\n",
              "      height: 32px;\n",
              "      padding: 0 0 0 0;\n",
              "      width: 32px;\n",
              "    }\n",
              "\n",
              "    .colab-df-convert:hover {\n",
              "      background-color: #E2EBFA;\n",
              "      box-shadow: 0px 1px 2px rgba(60, 64, 67, 0.3), 0px 1px 3px 1px rgba(60, 64, 67, 0.15);\n",
              "      fill: #174EA6;\n",
              "    }\n",
              "\n",
              "    [theme=dark] .colab-df-convert {\n",
              "      background-color: #3B4455;\n",
              "      fill: #D2E3FC;\n",
              "    }\n",
              "\n",
              "    [theme=dark] .colab-df-convert:hover {\n",
              "      background-color: #434B5C;\n",
              "      box-shadow: 0px 1px 3px 1px rgba(0, 0, 0, 0.15);\n",
              "      filter: drop-shadow(0px 1px 2px rgba(0, 0, 0, 0.3));\n",
              "      fill: #FFFFFF;\n",
              "    }\n",
              "  </style>\n",
              "\n",
              "      <script>\n",
              "        const buttonEl =\n",
              "          document.querySelector('#df-33e16549-d21c-45b8-9678-914f3201f9c6 button.colab-df-convert');\n",
              "        buttonEl.style.display =\n",
              "          google.colab.kernel.accessAllowed ? 'block' : 'none';\n",
              "\n",
              "        async function convertToInteractive(key) {\n",
              "          const element = document.querySelector('#df-33e16549-d21c-45b8-9678-914f3201f9c6');\n",
              "          const dataTable =\n",
              "            await google.colab.kernel.invokeFunction('convertToInteractive',\n",
              "                                                     [key], {});\n",
              "          if (!dataTable) return;\n",
              "\n",
              "          const docLinkHtml = 'Like what you see? Visit the ' +\n",
              "            '<a target=\"_blank\" href=https://colab.research.google.com/notebooks/data_table.ipynb>data table notebook</a>'\n",
              "            + ' to learn more about interactive tables.';\n",
              "          element.innerHTML = '';\n",
              "          dataTable['output_type'] = 'display_data';\n",
              "          await google.colab.output.renderOutput(dataTable, element);\n",
              "          const docLink = document.createElement('div');\n",
              "          docLink.innerHTML = docLinkHtml;\n",
              "          element.appendChild(docLink);\n",
              "        }\n",
              "      </script>\n",
              "    </div>\n",
              "  </div>\n",
              "  "
            ]
          },
          "metadata": {},
          "execution_count": 2
        }
      ]
    },
    {
      "cell_type": "code",
      "source": [
        "# Convert Columns to Numeric Data Types\n",
        "acs_df[\"Total Households\"] = pd.to_numeric(acs_df[\"Total Households\"])\n",
        "acs_df[\"Computer with Broadband Internet\"] = pd.to_numeric(acs_df[\"Computer with Broadband Internet\"])\n",
        "acs_df['Computer with No Internet'] = pd.to_numeric(acs_df['Computer with No Internet'])\n",
        "\n",
        "# Computing New Columns for Percentage of Households\n",
        "acs_df['% of households with a Computer and Broadband Internet'] = (100*acs_df['Computer with Broadband Internet'])/acs_df['Total Households']\n",
        "acs_df['% of households with a Computer but No Internet'] = (100*acs_df['Computer with No Internet'])/acs_df['Total Households']\n",
        "\n",
        "# Looking at the Top Results\n",
        "acs_df.head()"
      ],
      "metadata": {
        "colab": {
          "base_uri": "https://localhost:8080/",
          "height": 268
        },
        "id": "mdNCwwTkWG1L",
        "outputId": "6a2855da-0bbe-4bf3-b681-a5aef4e1f980"
      },
      "execution_count": null,
      "outputs": [
        {
          "output_type": "execute_result",
          "data": {
            "text/plain": [
              "   Total Households  Computer with Broadband Internet  \\\n",
              "0            287768                            239824   \n",
              "1            267988                            220902   \n",
              "2            285773                            239847   \n",
              "3            265042                            213249   \n",
              "4            312227                            270312   \n",
              "\n",
              "   Computer with No Internet  district number    State  \\\n",
              "0                      24786                1  Alabama   \n",
              "1                      25098                2  Alabama   \n",
              "2                      24411                3  Alabama   \n",
              "3                      26308                4  Alabama   \n",
              "4                      20398                5  Alabama   \n",
              "\n",
              "   % of households with a Computer and Broadband Internet  \\\n",
              "0                                          83.339357        \n",
              "1                                          82.429810        \n",
              "2                                          83.929203        \n",
              "3                                          80.458569        \n",
              "4                                          86.575472        \n",
              "\n",
              "   % of households with a Computer but No Internet  \n",
              "0                                         8.613188  \n",
              "1                                         9.365345  \n",
              "2                                         8.542095  \n",
              "3                                         9.925974  \n",
              "4                                         6.533067  "
            ],
            "text/html": [
              "\n",
              "  <div id=\"df-395cd15e-275f-4461-95af-7ddf914d2543\">\n",
              "    <div class=\"colab-df-container\">\n",
              "      <div>\n",
              "<style scoped>\n",
              "    .dataframe tbody tr th:only-of-type {\n",
              "        vertical-align: middle;\n",
              "    }\n",
              "\n",
              "    .dataframe tbody tr th {\n",
              "        vertical-align: top;\n",
              "    }\n",
              "\n",
              "    .dataframe thead th {\n",
              "        text-align: right;\n",
              "    }\n",
              "</style>\n",
              "<table border=\"1\" class=\"dataframe\">\n",
              "  <thead>\n",
              "    <tr style=\"text-align: right;\">\n",
              "      <th></th>\n",
              "      <th>Total Households</th>\n",
              "      <th>Computer with Broadband Internet</th>\n",
              "      <th>Computer with No Internet</th>\n",
              "      <th>district number</th>\n",
              "      <th>State</th>\n",
              "      <th>% of households with a Computer and Broadband Internet</th>\n",
              "      <th>% of households with a Computer but No Internet</th>\n",
              "    </tr>\n",
              "  </thead>\n",
              "  <tbody>\n",
              "    <tr>\n",
              "      <th>0</th>\n",
              "      <td>287768</td>\n",
              "      <td>239824</td>\n",
              "      <td>24786</td>\n",
              "      <td>1</td>\n",
              "      <td>Alabama</td>\n",
              "      <td>83.339357</td>\n",
              "      <td>8.613188</td>\n",
              "    </tr>\n",
              "    <tr>\n",
              "      <th>1</th>\n",
              "      <td>267988</td>\n",
              "      <td>220902</td>\n",
              "      <td>25098</td>\n",
              "      <td>2</td>\n",
              "      <td>Alabama</td>\n",
              "      <td>82.429810</td>\n",
              "      <td>9.365345</td>\n",
              "    </tr>\n",
              "    <tr>\n",
              "      <th>2</th>\n",
              "      <td>285773</td>\n",
              "      <td>239847</td>\n",
              "      <td>24411</td>\n",
              "      <td>3</td>\n",
              "      <td>Alabama</td>\n",
              "      <td>83.929203</td>\n",
              "      <td>8.542095</td>\n",
              "    </tr>\n",
              "    <tr>\n",
              "      <th>3</th>\n",
              "      <td>265042</td>\n",
              "      <td>213249</td>\n",
              "      <td>26308</td>\n",
              "      <td>4</td>\n",
              "      <td>Alabama</td>\n",
              "      <td>80.458569</td>\n",
              "      <td>9.925974</td>\n",
              "    </tr>\n",
              "    <tr>\n",
              "      <th>4</th>\n",
              "      <td>312227</td>\n",
              "      <td>270312</td>\n",
              "      <td>20398</td>\n",
              "      <td>5</td>\n",
              "      <td>Alabama</td>\n",
              "      <td>86.575472</td>\n",
              "      <td>6.533067</td>\n",
              "    </tr>\n",
              "  </tbody>\n",
              "</table>\n",
              "</div>\n",
              "      <button class=\"colab-df-convert\" onclick=\"convertToInteractive('df-395cd15e-275f-4461-95af-7ddf914d2543')\"\n",
              "              title=\"Convert this dataframe to an interactive table.\"\n",
              "              style=\"display:none;\">\n",
              "        \n",
              "  <svg xmlns=\"http://www.w3.org/2000/svg\" height=\"24px\"viewBox=\"0 0 24 24\"\n",
              "       width=\"24px\">\n",
              "    <path d=\"M0 0h24v24H0V0z\" fill=\"none\"/>\n",
              "    <path d=\"M18.56 5.44l.94 2.06.94-2.06 2.06-.94-2.06-.94-.94-2.06-.94 2.06-2.06.94zm-11 1L8.5 8.5l.94-2.06 2.06-.94-2.06-.94L8.5 2.5l-.94 2.06-2.06.94zm10 10l.94 2.06.94-2.06 2.06-.94-2.06-.94-.94-2.06-.94 2.06-2.06.94z\"/><path d=\"M17.41 7.96l-1.37-1.37c-.4-.4-.92-.59-1.43-.59-.52 0-1.04.2-1.43.59L10.3 9.45l-7.72 7.72c-.78.78-.78 2.05 0 2.83L4 21.41c.39.39.9.59 1.41.59.51 0 1.02-.2 1.41-.59l7.78-7.78 2.81-2.81c.8-.78.8-2.07 0-2.86zM5.41 20L4 18.59l7.72-7.72 1.47 1.35L5.41 20z\"/>\n",
              "  </svg>\n",
              "      </button>\n",
              "      \n",
              "  <style>\n",
              "    .colab-df-container {\n",
              "      display:flex;\n",
              "      flex-wrap:wrap;\n",
              "      gap: 12px;\n",
              "    }\n",
              "\n",
              "    .colab-df-convert {\n",
              "      background-color: #E8F0FE;\n",
              "      border: none;\n",
              "      border-radius: 50%;\n",
              "      cursor: pointer;\n",
              "      display: none;\n",
              "      fill: #1967D2;\n",
              "      height: 32px;\n",
              "      padding: 0 0 0 0;\n",
              "      width: 32px;\n",
              "    }\n",
              "\n",
              "    .colab-df-convert:hover {\n",
              "      background-color: #E2EBFA;\n",
              "      box-shadow: 0px 1px 2px rgba(60, 64, 67, 0.3), 0px 1px 3px 1px rgba(60, 64, 67, 0.15);\n",
              "      fill: #174EA6;\n",
              "    }\n",
              "\n",
              "    [theme=dark] .colab-df-convert {\n",
              "      background-color: #3B4455;\n",
              "      fill: #D2E3FC;\n",
              "    }\n",
              "\n",
              "    [theme=dark] .colab-df-convert:hover {\n",
              "      background-color: #434B5C;\n",
              "      box-shadow: 0px 1px 3px 1px rgba(0, 0, 0, 0.15);\n",
              "      filter: drop-shadow(0px 1px 2px rgba(0, 0, 0, 0.3));\n",
              "      fill: #FFFFFF;\n",
              "    }\n",
              "  </style>\n",
              "\n",
              "      <script>\n",
              "        const buttonEl =\n",
              "          document.querySelector('#df-395cd15e-275f-4461-95af-7ddf914d2543 button.colab-df-convert');\n",
              "        buttonEl.style.display =\n",
              "          google.colab.kernel.accessAllowed ? 'block' : 'none';\n",
              "\n",
              "        async function convertToInteractive(key) {\n",
              "          const element = document.querySelector('#df-395cd15e-275f-4461-95af-7ddf914d2543');\n",
              "          const dataTable =\n",
              "            await google.colab.kernel.invokeFunction('convertToInteractive',\n",
              "                                                     [key], {});\n",
              "          if (!dataTable) return;\n",
              "\n",
              "          const docLinkHtml = 'Like what you see? Visit the ' +\n",
              "            '<a target=\"_blank\" href=https://colab.research.google.com/notebooks/data_table.ipynb>data table notebook</a>'\n",
              "            + ' to learn more about interactive tables.';\n",
              "          element.innerHTML = '';\n",
              "          dataTable['output_type'] = 'display_data';\n",
              "          await google.colab.output.renderOutput(dataTable, element);\n",
              "          const docLink = document.createElement('div');\n",
              "          docLink.innerHTML = docLinkHtml;\n",
              "          element.appendChild(docLink);\n",
              "        }\n",
              "      </script>\n",
              "    </div>\n",
              "  </div>\n",
              "  "
            ]
          },
          "metadata": {},
          "execution_count": 3
        }
      ]
    },
    {
      "cell_type": "markdown",
      "source": [
        "# Political Affiliation Data"
      ],
      "metadata": {
        "id": "vTtl4hv8RKV0"
      }
    },
    {
      "cell_type": "code",
      "source": [
        "# Reading Congressional Data into Pandas Dataframe\n",
        "party_df = pd.read_csv(\"http://goodcsv.com/wp-content/uploads/2020/08/us-house-of-representatives-2020.csv\", encoding = \"ISO-8859-1\")\n",
        "\n",
        "# Extracting District Number\n",
        "party_df['district number'] = party_df['District/Position'].str.extract('(\\d+)')\n",
        "party_df['district number'] = party_df['district number'].fillna(0)\n",
        "party_df['district number'] = pd.to_numeric(party_df['district number'])\n",
        "party_df['State'] = party_df['State/Territory']\n",
        "party_df['State'] = party_df['State'].str.strip()\n",
        "party_df['Party'] = party_df['Party'].str.strip() # remove extraneous whitespace\n",
        "\n",
        "# Keeping Our Selected Columns\n",
        "party_df = party_df[['State', 'Party', \"district number\"]]\n",
        "\n",
        "# Looking at the Top Results\n",
        "party_df.head(5)"
      ],
      "metadata": {
        "id": "Dk7El1acWJv6",
        "colab": {
          "base_uri": "https://localhost:8080/",
          "height": 206
        },
        "outputId": "b599ce07-ba3c-4afb-8bec-cd276e0cb55b"
      },
      "execution_count": null,
      "outputs": [
        {
          "output_type": "execute_result",
          "data": {
            "text/plain": [
              "            State Party  district number\n",
              "0       Louisiana     R                5\n",
              "1  North Carolina     D               12\n",
              "2         Alabama     R                4\n",
              "3      California     D               31\n",
              "4         Georgia     R               12"
            ],
            "text/html": [
              "\n",
              "  <div id=\"df-bd1b8d29-2455-49a4-8388-42c619196f66\">\n",
              "    <div class=\"colab-df-container\">\n",
              "      <div>\n",
              "<style scoped>\n",
              "    .dataframe tbody tr th:only-of-type {\n",
              "        vertical-align: middle;\n",
              "    }\n",
              "\n",
              "    .dataframe tbody tr th {\n",
              "        vertical-align: top;\n",
              "    }\n",
              "\n",
              "    .dataframe thead th {\n",
              "        text-align: right;\n",
              "    }\n",
              "</style>\n",
              "<table border=\"1\" class=\"dataframe\">\n",
              "  <thead>\n",
              "    <tr style=\"text-align: right;\">\n",
              "      <th></th>\n",
              "      <th>State</th>\n",
              "      <th>Party</th>\n",
              "      <th>district number</th>\n",
              "    </tr>\n",
              "  </thead>\n",
              "  <tbody>\n",
              "    <tr>\n",
              "      <th>0</th>\n",
              "      <td>Louisiana</td>\n",
              "      <td>R</td>\n",
              "      <td>5</td>\n",
              "    </tr>\n",
              "    <tr>\n",
              "      <th>1</th>\n",
              "      <td>North Carolina</td>\n",
              "      <td>D</td>\n",
              "      <td>12</td>\n",
              "    </tr>\n",
              "    <tr>\n",
              "      <th>2</th>\n",
              "      <td>Alabama</td>\n",
              "      <td>R</td>\n",
              "      <td>4</td>\n",
              "    </tr>\n",
              "    <tr>\n",
              "      <th>3</th>\n",
              "      <td>California</td>\n",
              "      <td>D</td>\n",
              "      <td>31</td>\n",
              "    </tr>\n",
              "    <tr>\n",
              "      <th>4</th>\n",
              "      <td>Georgia</td>\n",
              "      <td>R</td>\n",
              "      <td>12</td>\n",
              "    </tr>\n",
              "  </tbody>\n",
              "</table>\n",
              "</div>\n",
              "      <button class=\"colab-df-convert\" onclick=\"convertToInteractive('df-bd1b8d29-2455-49a4-8388-42c619196f66')\"\n",
              "              title=\"Convert this dataframe to an interactive table.\"\n",
              "              style=\"display:none;\">\n",
              "        \n",
              "  <svg xmlns=\"http://www.w3.org/2000/svg\" height=\"24px\"viewBox=\"0 0 24 24\"\n",
              "       width=\"24px\">\n",
              "    <path d=\"M0 0h24v24H0V0z\" fill=\"none\"/>\n",
              "    <path d=\"M18.56 5.44l.94 2.06.94-2.06 2.06-.94-2.06-.94-.94-2.06-.94 2.06-2.06.94zm-11 1L8.5 8.5l.94-2.06 2.06-.94-2.06-.94L8.5 2.5l-.94 2.06-2.06.94zm10 10l.94 2.06.94-2.06 2.06-.94-2.06-.94-.94-2.06-.94 2.06-2.06.94z\"/><path d=\"M17.41 7.96l-1.37-1.37c-.4-.4-.92-.59-1.43-.59-.52 0-1.04.2-1.43.59L10.3 9.45l-7.72 7.72c-.78.78-.78 2.05 0 2.83L4 21.41c.39.39.9.59 1.41.59.51 0 1.02-.2 1.41-.59l7.78-7.78 2.81-2.81c.8-.78.8-2.07 0-2.86zM5.41 20L4 18.59l7.72-7.72 1.47 1.35L5.41 20z\"/>\n",
              "  </svg>\n",
              "      </button>\n",
              "      \n",
              "  <style>\n",
              "    .colab-df-container {\n",
              "      display:flex;\n",
              "      flex-wrap:wrap;\n",
              "      gap: 12px;\n",
              "    }\n",
              "\n",
              "    .colab-df-convert {\n",
              "      background-color: #E8F0FE;\n",
              "      border: none;\n",
              "      border-radius: 50%;\n",
              "      cursor: pointer;\n",
              "      display: none;\n",
              "      fill: #1967D2;\n",
              "      height: 32px;\n",
              "      padding: 0 0 0 0;\n",
              "      width: 32px;\n",
              "    }\n",
              "\n",
              "    .colab-df-convert:hover {\n",
              "      background-color: #E2EBFA;\n",
              "      box-shadow: 0px 1px 2px rgba(60, 64, 67, 0.3), 0px 1px 3px 1px rgba(60, 64, 67, 0.15);\n",
              "      fill: #174EA6;\n",
              "    }\n",
              "\n",
              "    [theme=dark] .colab-df-convert {\n",
              "      background-color: #3B4455;\n",
              "      fill: #D2E3FC;\n",
              "    }\n",
              "\n",
              "    [theme=dark] .colab-df-convert:hover {\n",
              "      background-color: #434B5C;\n",
              "      box-shadow: 0px 1px 3px 1px rgba(0, 0, 0, 0.15);\n",
              "      filter: drop-shadow(0px 1px 2px rgba(0, 0, 0, 0.3));\n",
              "      fill: #FFFFFF;\n",
              "    }\n",
              "  </style>\n",
              "\n",
              "      <script>\n",
              "        const buttonEl =\n",
              "          document.querySelector('#df-bd1b8d29-2455-49a4-8388-42c619196f66 button.colab-df-convert');\n",
              "        buttonEl.style.display =\n",
              "          google.colab.kernel.accessAllowed ? 'block' : 'none';\n",
              "\n",
              "        async function convertToInteractive(key) {\n",
              "          const element = document.querySelector('#df-bd1b8d29-2455-49a4-8388-42c619196f66');\n",
              "          const dataTable =\n",
              "            await google.colab.kernel.invokeFunction('convertToInteractive',\n",
              "                                                     [key], {});\n",
              "          if (!dataTable) return;\n",
              "\n",
              "          const docLinkHtml = 'Like what you see? Visit the ' +\n",
              "            '<a target=\"_blank\" href=https://colab.research.google.com/notebooks/data_table.ipynb>data table notebook</a>'\n",
              "            + ' to learn more about interactive tables.';\n",
              "          element.innerHTML = '';\n",
              "          dataTable['output_type'] = 'display_data';\n",
              "          await google.colab.output.renderOutput(dataTable, element);\n",
              "          const docLink = document.createElement('div');\n",
              "          docLink.innerHTML = docLinkHtml;\n",
              "          element.appendChild(docLink);\n",
              "        }\n",
              "      </script>\n",
              "    </div>\n",
              "  </div>\n",
              "  "
            ]
          },
          "metadata": {},
          "execution_count": 4
        }
      ]
    },
    {
      "cell_type": "markdown",
      "source": [
        "# Merging the Data"
      ],
      "metadata": {
        "id": "FhDUGwkTRN73"
      }
    },
    {
      "cell_type": "code",
      "source": [
        "# Merging our Data\n",
        "merged_df = pd.merge(acs_df, party_df, on=[\"State\", \"district number\"])"
      ],
      "metadata": {
        "id": "ZHTcIv0RWN9w"
      },
      "execution_count": null,
      "outputs": []
    },
    {
      "cell_type": "code",
      "source": [
        "# Checking Party Breakdown\n",
        "merged_df['Party'].value_counts()\n"
      ],
      "metadata": {
        "id": "_WIiXyfmWRp0",
        "colab": {
          "base_uri": "https://localhost:8080/"
        },
        "outputId": "78847dc7-87a1-49ac-abd9-df796b3e8677"
      },
      "execution_count": null,
      "outputs": [
        {
          "output_type": "execute_result",
          "data": {
            "text/plain": [
              "D    233\n",
              "R    201\n",
              "L      1\n",
              "Name: Party, dtype: int64"
            ]
          },
          "metadata": {},
          "execution_count": 6
        }
      ]
    },
    {
      "cell_type": "code",
      "source": [
        "# Dropping Liberatarian from the dataset \n",
        "merged_df.drop(merged_df[merged_df['Party'] == 'L'].index, inplace = True)\n",
        "merged_df['Party'].value_counts()"
      ],
      "metadata": {
        "colab": {
          "base_uri": "https://localhost:8080/"
        },
        "id": "vIWxfgeWPHHX",
        "outputId": "f4dc19e3-0f04-4089-cf61-12743fe824b8"
      },
      "execution_count": null,
      "outputs": [
        {
          "output_type": "execute_result",
          "data": {
            "text/plain": [
              "D    233\n",
              "R    201\n",
              "Name: Party, dtype: int64"
            ]
          },
          "metadata": {},
          "execution_count": 8
        }
      ]
    },
    {
      "cell_type": "markdown",
      "source": [
        "# Visualization"
      ],
      "metadata": {
        "id": "U6D7lEjzRR2Q"
      }
    },
    {
      "cell_type": "markdown",
      "source": [
        "## Boxplot of % of households with a Computer and Broadband Internet"
      ],
      "metadata": {
        "id": "ci7A68_CiYRC"
      }
    },
    {
      "cell_type": "code",
      "source": [
        "fig, ax = plt.subplots(figsize=(15, 12))\n",
        "\n",
        "ax = sns.boxplot(x='Party', y='% of households with a Computer and Broadband Internet', data = merged_df, ax=ax, palette=\"Set1\")\n",
        "\n",
        "ax = sns.stripplot(x='Party', y='% of households with a Computer and Broadband Internet', data=merged_df, color=\"orange\", jitter=0.2, size=5.5, ax=ax)\n",
        "\n",
        "plt.title(\"% of Households with a Computer and Broadband Internet by Party\")\n",
        "\n",
        "# show the graph\n",
        "plt.show()"
      ],
      "metadata": {
        "colab": {
          "base_uri": "https://localhost:8080/",
          "height": 730
        },
        "id": "EVYiHtutXzYN",
        "outputId": "08bcc79b-5064-4482-90e9-a77c273029c2"
      },
      "execution_count": null,
      "outputs": [
        {
          "output_type": "display_data",
          "data": {
            "text/plain": [
              "<Figure size 1080x864 with 1 Axes>"
            ],
            "image/png": "[encoded data removed]"
          },
          "metadata": {
            "needs_background": "light"
          }
        }
      ]
    },
    {
      "cell_type": "code",
      "source": [
        "merged_df.groupby([\"Party\"])[\"% of households with a Computer and Broadband Internet\"].describe()"
      ],
      "metadata": {
        "colab": {
          "base_uri": "https://localhost:8080/",
          "height": 143
        },
        "id": "fHoc9O7EkxUH",
        "outputId": "45e2c531-44a9-4856-de48-2acd6b0d7676"
      },
      "execution_count": null,
      "outputs": [
        {
          "output_type": "execute_result",
          "data": {
            "text/plain": [
              "       count       mean       std        min        25%        50%        75%  \\\n",
              "Party                                                                           \n",
              "D      233.0  90.235007  3.746009  74.846394  87.847733  91.124827  92.964184   \n",
              "R      201.0  88.146945  3.639849  77.941603  86.300428  88.368752  90.331071   \n",
              "\n",
              "             max  \n",
              "Party             \n",
              "D      95.954320  \n",
              "R      96.067298  "
            ],
            "text/html": [
              "\n",
              "  <div id=\"df-30fc6af7-5e0f-419d-a15d-5135f81b489f\">\n",
              "    <div class=\"colab-df-container\">\n",
              "      <div>\n",
              "<style scoped>\n",
              "    .dataframe tbody tr th:only-of-type {\n",
              "        vertical-align: middle;\n",
              "    }\n",
              "\n",
              "    .dataframe tbody tr th {\n",
              "        vertical-align: top;\n",
              "    }\n",
              "\n",
              "    .dataframe thead th {\n",
              "        text-align: right;\n",
              "    }\n",
              "</style>\n",
              "<table border=\"1\" class=\"dataframe\">\n",
              "  <thead>\n",
              "    <tr style=\"text-align: right;\">\n",
              "      <th></th>\n",
              "      <th>count</th>\n",
              "      <th>mean</th>\n",
              "      <th>std</th>\n",
              "      <th>min</th>\n",
              "      <th>25%</th>\n",
              "      <th>50%</th>\n",
              "      <th>75%</th>\n",
              "      <th>max</th>\n",
              "    </tr>\n",
              "    <tr>\n",
              "      <th>Party</th>\n",
              "      <th></th>\n",
              "      <th></th>\n",
              "      <th></th>\n",
              "      <th></th>\n",
              "      <th></th>\n",
              "      <th></th>\n",
              "      <th></th>\n",
              "      <th></th>\n",
              "    </tr>\n",
              "  </thead>\n",
              "  <tbody>\n",
              "    <tr>\n",
              "      <th>D</th>\n",
              "      <td>233.0</td>\n",
              "      <td>90.235007</td>\n",
              "      <td>3.746009</td>\n",
              "      <td>74.846394</td>\n",
              "      <td>87.847733</td>\n",
              "      <td>91.124827</td>\n",
              "      <td>92.964184</td>\n",
              "      <td>95.954320</td>\n",
              "    </tr>\n",
              "    <tr>\n",
              "      <th>R</th>\n",
              "      <td>201.0</td>\n",
              "      <td>88.146945</td>\n",
              "      <td>3.639849</td>\n",
              "      <td>77.941603</td>\n",
              "      <td>86.300428</td>\n",
              "      <td>88.368752</td>\n",
              "      <td>90.331071</td>\n",
              "      <td>96.067298</td>\n",
              "    </tr>\n",
              "  </tbody>\n",
              "</table>\n",
              "</div>\n",
              "      <button class=\"colab-df-convert\" onclick=\"convertToInteractive('df-30fc6af7-5e0f-419d-a15d-5135f81b489f')\"\n",
              "              title=\"Convert this dataframe to an interactive table.\"\n",
              "              style=\"display:none;\">\n",
              "        \n",
              "  <svg xmlns=\"http://www.w3.org/2000/svg\" height=\"24px\"viewBox=\"0 0 24 24\"\n",
              "       width=\"24px\">\n",
              "    <path d=\"M0 0h24v24H0V0z\" fill=\"none\"/>\n",
              "    <path d=\"M18.56 5.44l.94 2.06.94-2.06 2.06-.94-2.06-.94-.94-2.06-.94 2.06-2.06.94zm-11 1L8.5 8.5l.94-2.06 2.06-.94-2.06-.94L8.5 2.5l-.94 2.06-2.06.94zm10 10l.94 2.06.94-2.06 2.06-.94-2.06-.94-.94-2.06-.94 2.06-2.06.94z\"/><path d=\"M17.41 7.96l-1.37-1.37c-.4-.4-.92-.59-1.43-.59-.52 0-1.04.2-1.43.59L10.3 9.45l-7.72 7.72c-.78.78-.78 2.05 0 2.83L4 21.41c.39.39.9.59 1.41.59.51 0 1.02-.2 1.41-.59l7.78-7.78 2.81-2.81c.8-.78.8-2.07 0-2.86zM5.41 20L4 18.59l7.72-7.72 1.47 1.35L5.41 20z\"/>\n",
              "  </svg>\n",
              "      </button>\n",
              "      \n",
              "  <style>\n",
              "    .colab-df-container {\n",
              "      display:flex;\n",
              "      flex-wrap:wrap;\n",
              "      gap: 12px;\n",
              "    }\n",
              "\n",
              "    .colab-df-convert {\n",
              "      background-color: #E8F0FE;\n",
              "      border: none;\n",
              "      border-radius: 50%;\n",
              "      cursor: pointer;\n",
              "      display: none;\n",
              "      fill: #1967D2;\n",
              "      height: 32px;\n",
              "      padding: 0 0 0 0;\n",
              "      width: 32px;\n",
              "    }\n",
              "\n",
              "    .colab-df-convert:hover {\n",
              "      background-color: #E2EBFA;\n",
              "      box-shadow: 0px 1px 2px rgba(60, 64, 67, 0.3), 0px 1px 3px 1px rgba(60, 64, 67, 0.15);\n",
              "      fill: #174EA6;\n",
              "    }\n",
              "\n",
              "    [theme=dark] .colab-df-convert {\n",
              "      background-color: #3B4455;\n",
              "      fill: #D2E3FC;\n",
              "    }\n",
              "\n",
              "    [theme=dark] .colab-df-convert:hover {\n",
              "      background-color: #434B5C;\n",
              "      box-shadow: 0px 1px 3px 1px rgba(0, 0, 0, 0.15);\n",
              "      filter: drop-shadow(0px 1px 2px rgba(0, 0, 0, 0.3));\n",
              "      fill: #FFFFFF;\n",
              "    }\n",
              "  </style>\n",
              "\n",
              "      <script>\n",
              "        const buttonEl =\n",
              "          document.querySelector('#df-30fc6af7-5e0f-419d-a15d-5135f81b489f button.colab-df-convert');\n",
              "        buttonEl.style.display =\n",
              "          google.colab.kernel.accessAllowed ? 'block' : 'none';\n",
              "\n",
              "        async function convertToInteractive(key) {\n",
              "          const element = document.querySelector('#df-30fc6af7-5e0f-419d-a15d-5135f81b489f');\n",
              "          const dataTable =\n",
              "            await google.colab.kernel.invokeFunction('convertToInteractive',\n",
              "                                                     [key], {});\n",
              "          if (!dataTable) return;\n",
              "\n",
              "          const docLinkHtml = 'Like what you see? Visit the ' +\n",
              "            '<a target=\"_blank\" href=https://colab.research.google.com/notebooks/data_table.ipynb>data table notebook</a>'\n",
              "            + ' to learn more about interactive tables.';\n",
              "          element.innerHTML = '';\n",
              "          dataTable['output_type'] = 'display_data';\n",
              "          await google.colab.output.renderOutput(dataTable, element);\n",
              "          const docLink = document.createElement('div');\n",
              "          docLink.innerHTML = docLinkHtml;\n",
              "          element.appendChild(docLink);\n",
              "        }\n",
              "      </script>\n",
              "    </div>\n",
              "  </div>\n",
              "  "
            ]
          },
          "metadata": {},
          "execution_count": 10
        }
      ]
    },
    {
      "cell_type": "markdown",
      "source": [
        "## Histograms of Distribution of % of Households with a Computer and Broadband Internet by Party"
      ],
      "metadata": {
        "id": "G3Q68G5Aikis"
      }
    },
    {
      "cell_type": "code",
      "source": [
        "df_dem = merged_df[merged_df['Party']== \"D\"]\n",
        "\n",
        "sns.histplot(df_dem[\"% of households with a Computer and Broadband Internet\"], bins = 20, color=\"blue\").set(title=\"Distribution of Democratic Districts by % of Households with a Computer and Broadband Internet\")\n",
        "\n",
        "plt.xlim(60, 100)\n",
        "\n",
        "plt.ylim(0, 50)\n",
        "\n",
        "sns.despine()"
      ],
      "metadata": {
        "colab": {
          "base_uri": "https://localhost:8080/",
          "height": 295
        },
        "id": "NrKHkUE0inZq",
        "outputId": "2c6cd00d-dcc4-41b0-d7ff-e84f40e6a351"
      },
      "execution_count": null,
      "outputs": [
        {
          "output_type": "display_data",
          "data": {
            "text/plain": [
              "<Figure size 432x288 with 1 Axes>"
            ],
            "image/png": "[encoded data removed]"
          },
          "metadata": {
            "needs_background": "light"
          }
        }
      ]
    },
    {
      "cell_type": "markdown",
      "source": [
        "This distribution is skewed left. The median % of households with a computer and broadband internet access appears to be about 90%."
      ],
      "metadata": {
        "id": "GhS51AFyjXhc"
      }
    },
    {
      "cell_type": "code",
      "source": [
        "df_dem = merged_df[merged_df['Party']== \"R\"]\n",
        "\n",
        "sns.histplot(df_dem[\"% of households with a Computer and Broadband Internet\"], bins = 20, color=\"red\").set(title=\"Distribution of Democratic Districts by % of Households with a Computer and Broadband Internet\")\n",
        "\n",
        "plt.xlim(60, 100)\n",
        "\n",
        "plt.ylim(0, 50)\n",
        "\n",
        "sns.despine()"
      ],
      "metadata": {
        "colab": {
          "base_uri": "https://localhost:8080/",
          "height": 295
        },
        "id": "IwYjZx_8ir9F",
        "outputId": "5834b2d9-8234-42c8-b561-985f39786d54"
      },
      "execution_count": null,
      "outputs": [
        {
          "output_type": "display_data",
          "data": {
            "text/plain": [
              "<Figure size 432x288 with 1 Axes>"
            ],
            "image/png": "[encoded data removed]"
          },
          "metadata": {
            "needs_background": "light"
          }
        }
      ]
    },
    {
      "cell_type": "markdown",
      "source": [
        "This distribution looks relatively normal. The median % of households with a computer and broadband internet access appears to be about 87%."
      ],
      "metadata": {
        "id": "shQnCMsWjlE7"
      }
    },
    {
      "cell_type": "markdown",
      "source": [
        "## Histograms of Distribution of % of Households with a Computer but No Internet Access by Party"
      ],
      "metadata": {
        "id": "NNH8oUpIidW2"
      }
    },
    {
      "cell_type": "code",
      "source": [
        "df_dem = merged_df[merged_df['Party']== \"D\"]\n",
        "\n",
        "sns.histplot(df_dem[\"% of households with a Computer but No Internet\"], bins = 20, color=\"blue\").set(title=\"Distribution of Democratic Districts by % of Households with a Computer but No Internet\")\n",
        "\n",
        "plt.xlim(0, 20)\n",
        "\n",
        "plt.ylim(0, 50)\n",
        "\n",
        "sns.despine()\n"
      ],
      "metadata": {
        "colab": {
          "base_uri": "https://localhost:8080/",
          "height": 295
        },
        "id": "hO0y4pMcY7Tq",
        "outputId": "6ccc1f21-afa1-42fb-9f28-3fabe671caa7"
      },
      "execution_count": null,
      "outputs": [
        {
          "output_type": "display_data",
          "data": {
            "text/plain": [
              "<Figure size 432x288 with 1 Axes>"
            ],
            "image/png": "[encoded data removed]"
          },
          "metadata": {
            "needs_background": "light"
          }
        }
      ]
    },
    {
      "cell_type": "markdown",
      "source": [
        "This distribution is skewed right. The median % of households with a computer but no internet access appears to be about 4.5%."
      ],
      "metadata": {
        "id": "pLU83WKJjpJA"
      }
    },
    {
      "cell_type": "code",
      "source": [
        "df_dem = merged_df[merged_df['Party']== \"R\"]\n",
        "\n",
        "sns.histplot(df_dem[\"% of households with a Computer but No Internet\"], bins = 20, color=\"red\").set(title=\"Distribution of Republican Districts by % of Households with a Computer but No Internet\")\n",
        "\n",
        "plt.xlim(0, 20)\n",
        "\n",
        "plt.ylim(0, 50)\n",
        "\n",
        "sns.despine()"
      ],
      "metadata": {
        "colab": {
          "base_uri": "https://localhost:8080/",
          "height": 295
        },
        "id": "6TeA89s5asSL",
        "outputId": "a9533bad-1ab0-407b-e5dd-5c33127e2d30"
      },
      "execution_count": null,
      "outputs": [
        {
          "output_type": "display_data",
          "data": {
            "text/plain": [
              "<Figure size 432x288 with 1 Axes>"
            ],
            "image/png": "[encoded data removed]"
          },
          "metadata": {
            "needs_background": "light"
          }
        }
      ]
    },
    {
      "cell_type": "markdown",
      "source": [
        "This distribution is relatively normal. The median % of households with a computer but no internet access appears to be about 6%."
      ],
      "metadata": {
        "id": "MGS60A7IjteO"
      }
    },
    {
      "cell_type": "code",
      "source": [
        "df_descending = merged_df.sort_values(\"% of households with a Computer but No Internet\",ascending=False)\n",
        "\n",
        "desc = df_descending[[\"Party\",\"% of households with a Computer but No Internet\", \"State\"]]\n",
        "\n",
        "# bottom 10 \n",
        "print(desc.head(10))"
      ],
      "metadata": {
        "colab": {
          "base_uri": "https://localhost:8080/"
        },
        "id": "epN9Ut-tcKsa",
        "outputId": "3afc4653-0184-425c-c6c5-53d9e6c9808f"
      },
      "execution_count": null,
      "outputs": [
        {
          "output_type": "stream",
          "name": "stdout",
          "text": [
            "    Party  % of households with a Computer but No Internet        State\n",
            "110     D                                        14.429441      Florida\n",
            "221     D                                        13.880445  Mississippi\n",
            "256     D                                        11.748387   New Mexico\n",
            "315     R                                        11.737833     Oklahoma\n",
            "20      R                                        11.536418     Arkansas\n",
            "255     D                                        11.529667   New Mexico\n",
            "369     D                                        11.487711        Texas\n",
            "176     R                                        11.173033    Louisiana\n",
            "6       D                                        10.984436      Alabama\n",
            "36      D                                        10.927176   California\n"
          ]
        }
      ]
    },
    {
      "cell_type": "code",
      "source": [
        "df_ascending = merged_df.sort_values(\"% of households with a Computer but No Internet\",ascending=True)\n",
        "\n",
        "asc = df_ascending[[\"Party\",\"% of households with a Computer but No Internet\", \"State\"]]\n",
        "\n",
        "# bottom 10 \n",
        "print(asc.head(10))"
      ],
      "metadata": {
        "colab": {
          "base_uri": "https://localhost:8080/"
        },
        "id": "svHhijt9kHpJ",
        "outputId": "bded2bf5-d33e-450d-c497-eea3488aee87"
      },
      "execution_count": null,
      "outputs": [
        {
          "output_type": "stream",
          "name": "stdout",
          "text": [
            "    Party  % of households with a Computer but No Internet          State\n",
            "72      D                                         1.636118     California\n",
            "246     D                                         1.807572     New Jersey\n",
            "412     D                                         2.182429       Virginia\n",
            "248     D                                         2.188039     New Jersey\n",
            "38      D                                         2.456496     California\n",
            "65      D                                         2.480208     California\n",
            "259     D                                         2.482975       New York\n",
            "50      D                                         2.499308     California\n",
            "68      D                                         2.552644     California\n",
            "193     D                                         2.569987  Massachusetts\n"
          ]
        }
      ]
    },
    {
      "cell_type": "markdown",
      "source": [
        "# Findings"
      ],
      "metadata": {
        "id": "FF-lX6K6RU-d"
      }
    },
    {
      "cell_type": "markdown",
      "source": [
        "Our findings supported our first hypothesis and slightly contradicted our second. First, we can see in the boxplot that districts with a higher percentage of households owning a computer with broadband internet access tend to be democratic. Districts with a lower percentage of households owning a computer with broadband internet access tend to be republican. This supported our original hypothesis."
      ],
      "metadata": {
        "id": "Ej85-0d_RYcS"
      }
    },
    {
      "cell_type": "markdown",
      "source": [
        "Second, from the histograms we can see that the median percentage of households with a computer but no internet looks to be about 6% for Republican districts and 4.5% for Democratic districts. Even though the median is higher for Republicans, there are a greater number of Democratic regions with 4-6% of households having a computer but not internet. Moving forward, we would want to further investigate how income plays a role in this. "
      ],
      "metadata": {
        "id": "Vx1GSqi7f3cc"
      }
    },
    {
      "cell_type": "markdown",
      "source": [
        "Based on the original study which looked at political affiliation with incomes greater than 200k, and less than 10k, these results make sense. Democratic districts were more spread out with more districts in both the highest and lowest income brackets compared to republican districts. This makes sense with our data because democratic districts had both the highest and lowest percentages of internet access. This leads us to believe that income and internet access are likely to be correlated as well. "
      ],
      "metadata": {
        "id": "Q_fePlkDW15n"
      }
    }
  ]
}