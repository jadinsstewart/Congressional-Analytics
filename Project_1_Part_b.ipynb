{
  "nbformat": 4,
  "nbformat_minor": 0,
  "metadata": {
    "colab": {
      "provenance": [],
      "authorship_tag": "ABX9TyOBZFUh1q+KDIVuBiLKpNzI",
      "include_colab_link": true
    },
    "kernelspec": {
      "name": "python3",
      "display_name": "Python 3"
    },
    "language_info": {
      "name": "python"
    }
  },
  "cells": [
    {
      "cell_type": "markdown",
      "metadata": {
        "id": "view-in-github",
        "colab_type": "text"
      },
      "source": [
        "<a href=\"https://colab.research.google.com/github/jadinsstewart/Congressional-Analytics/blob/main/Project_1_Part_b.ipynb\" target=\"_parent\"><img src=\"https://colab.research.google.com/assets/colab-badge.svg\" alt=\"Open In Colab\"/></a>"
      ]
    },
    {
      "cell_type": "markdown",
      "source": [
        "<h1><center> Analysis Comparing Political Affiliation by Number of Computing Devices Owned and Median Household Age </center></h1>"
      ],
      "metadata": {
        "id": "9vXYDikAQIUk"
      }
    },
    {
      "cell_type": "markdown",
      "source": [
        "Ella Archie (earchie@calpoly.edu)\n",
        "\n",
        "Jadin Stewart (jsstewar@calpoly.edu)\n",
        "\n",
        "February 5th, 2023"
      ],
      "metadata": {
        "id": "9yZmckTGQGRS"
      }
    },
    {
      "cell_type": "markdown",
      "source": [
        "# Introduction"
      ],
      "metadata": {
        "id": "dJUffpsqQ-8P"
      }
    },
    {
      "cell_type": "markdown",
      "source": [
        "Last week, we presented our analysis comparing district political affiliation and the percentage of households owning at least one computer in that district. While we found evidence to support our hypothesis that districts with a high percentage of households having 1+ computers tend to be democratic, we were left with a few questions we wanted to further investigate."
      ],
      "metadata": {
        "id": "sxNbbcTwRADi"
      }
    },
    {
      "cell_type": "markdown",
      "source": [
        "To better understand the impact that technological devices have on political affiliation, we have decided to investigate how the percentage of households having 1+ computing device (not limited to just a laptop or desktop) impacts a districts political affiliation. To take the investigation even further, we will investigate how median household age impacts how many households own at least one computing device."
      ],
      "metadata": {
        "id": "JFJJdetcSc5m"
      }
    },
    {
      "cell_type": "markdown",
      "source": [
        "# About"
      ],
      "metadata": {
        "id": "EWJH0hQzSIki"
      }
    },
    {
      "cell_type": "markdown",
      "source": [
        "This document was created for our Cloud Computing Class at California Polytechnic State University. We gathered data for this analysis from several places:"
      ],
      "metadata": {
        "id": "8gPK7Er2SJr3"
      }
    },
    {
      "cell_type": "markdown",
      "source": [
        "We gathered census data which included total households per district and computing devices owned per household from the United States Census Bureau. (https://api.census.gov/data/2021/acs/acs1?get=NAME,B19001_001E,B28001_011E,B28001_003E&for=congressional%20district:*&in=state:*)"
      ],
      "metadata": {
        "id": "weTH-ie0TLql"
      }
    },
    {
      "cell_type": "markdown",
      "source": [
        "We gathered political affiliation data from "
      ],
      "metadata": {
        "id": "frMHuUmNUDRD"
      }
    },
    {
      "cell_type": "markdown",
      "source": [
        "# Hypothesis"
      ],
      "metadata": {
        "id": "GlsOTmQuRBC_"
      }
    },
    {
      "cell_type": "markdown",
      "source": [],
      "metadata": {
        "id": "jZIEq23PRHLq"
      }
    },
    {
      "cell_type": "markdown",
      "source": [
        "# ACS Data"
      ],
      "metadata": {
        "id": "1B_NT_0wRHWm"
      }
    },
    {
      "cell_type": "markdown",
      "source": [],
      "metadata": {
        "id": "S1EzRhNVRKNS"
      }
    },
    {
      "cell_type": "markdown",
      "source": [
        "# Political Affiliation Data"
      ],
      "metadata": {
        "id": "vTtl4hv8RKV0"
      }
    },
    {
      "cell_type": "markdown",
      "source": [],
      "metadata": {
        "id": "F--chSxjRNvy"
      }
    },
    {
      "cell_type": "markdown",
      "source": [
        "# Merging the Data"
      ],
      "metadata": {
        "id": "FhDUGwkTRN73"
      }
    },
    {
      "cell_type": "markdown",
      "source": [],
      "metadata": {
        "id": "cCECVAzURRpI"
      }
    },
    {
      "cell_type": "markdown",
      "source": [
        "# Visualization"
      ],
      "metadata": {
        "id": "U6D7lEjzRR2Q"
      }
    },
    {
      "cell_type": "markdown",
      "source": [],
      "metadata": {
        "id": "1XfWS5D5RUwm"
      }
    },
    {
      "cell_type": "markdown",
      "source": [
        "# Findings"
      ],
      "metadata": {
        "id": "FF-lX6K6RU-d"
      }
    },
    {
      "cell_type": "markdown",
      "source": [],
      "metadata": {
        "id": "Ej85-0d_RYcS"
      }
    }
  ]
}