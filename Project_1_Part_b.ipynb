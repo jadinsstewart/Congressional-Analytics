{
  "nbformat": 4,
  "nbformat_minor": 0,
  "metadata": {
    "colab": {
      "provenance": [],
      "include_colab_link": true
    },
    "kernelspec": {
      "name": "python3",
      "display_name": "Python 3"
    },
    "language_info": {
      "name": "python"
    }
  },
  "cells": [
    {
      "cell_type": "markdown",
      "metadata": {
        "id": "view-in-github",
        "colab_type": "text"
      },
      "source": [
        "<a href=\"https://colab.research.google.com/github/jadinsstewart/Congressional-Analytics/blob/main/Project_1_Part_b.ipynb\" target=\"_parent\"><img src=\"https://colab.research.google.com/assets/colab-badge.svg\" alt=\"Open In Colab\"/></a>"
      ]
    },
    {
      "cell_type": "markdown",
      "source": [
        "<h1><center> Analysis Comparing Political Affiliation by Number of Computing Devices Owned and Access to the Internet </center></h1>"
      ],
      "metadata": {
        "id": "9vXYDikAQIUk"
      }
    },
    {
      "cell_type": "markdown",
      "source": [
        "Ella Archie (earchie@calpoly.edu)\n",
        "\n",
        "Jadin Stewart (jsstewar@calpoly.edu)\n",
        "\n",
        "February 5th, 2023"
      ],
      "metadata": {
        "id": "9yZmckTGQGRS"
      }
    },
    {
      "cell_type": "markdown",
      "source": [
        "# Introduction"
      ],
      "metadata": {
        "id": "dJUffpsqQ-8P"
      }
    },
    {
      "cell_type": "markdown",
      "source": [
        "Last week, we presented our analysis comparing district political affiliation and the percentage of households owning at least one computer in that district. While we found evidence to support our hypothesis that districts with a high percentage of households having 1+ computers tend to be democratic, we were left with a few questions we wanted to further investigate."
      ],
      "metadata": {
        "id": "sxNbbcTwRADi"
      }
    },
    {
      "cell_type": "markdown",
      "source": [
        "To further our investigation, we will narrow in on households who own a computer. We will compare the % of households per district with a computer and broadband internet access and the % of households per district with a computer but no internet access to political affiliation."
      ],
      "metadata": {
        "id": "JFJJdetcSc5m"
      }
    },
    {
      "cell_type": "markdown",
      "source": [
        "# About"
      ],
      "metadata": {
        "id": "EWJH0hQzSIki"
      }
    },
    {
      "cell_type": "markdown",
      "source": [
        "For our analysis we utilized data from the following sources: \n",
        "\n",
        "Party affiliation of each congressional district: https://www.house.gov/representatives (in csv format: http://goodcsv.com/politics/us-house-of-representatives-2020/ )  \n",
        "\n",
        "\n",
        "American Community Survey 2021 dataset available from census.gov. The data is available via API from here: https://www.census.gov/data/developers/data-sets/acs-1year.html and the 2021 variable information can be found here:\n",
        "https://api.census.gov/data/2021/acs/acs1/variables.html\n",
        "\n",
        "\n",
        "For the purpose of our analysis, we've removed libertarian given the low sample size (n=1)"
      ],
      "metadata": {
        "id": "8gPK7Er2SJr3"
      }
    },
    {
      "cell_type": "markdown",
      "source": [
        "# Hypothesis"
      ],
      "metadata": {
        "id": "GlsOTmQuRBC_"
      }
    },
    {
      "cell_type": "markdown",
      "source": [
        "Based on our prior findings that access to a computer in the household corresponds to more democratic leaning districts, we believe that having internet access within the household will also likely correlate with democratic districts. In addition, we predict that districts with high percentages of households that have a computer but no internet access are more likely to be republican, while districts with higher percentages of households with internet access at home will tend to be democratic. "
      ],
      "metadata": {
        "id": "jZIEq23PRHLq"
      }
    },
    {
      "cell_type": "markdown",
      "source": [
        "# ACS Data"
      ],
      "metadata": {
        "id": "1B_NT_0wRHWm"
      }
    },
    {
      "cell_type": "code",
      "source": [
        "# Libraries\n",
        "import pandas as pd  \n",
        "import json \n",
        "from urllib.request import urlopen \n",
        "import matplotlib.pyplot as plt \n",
        "import seaborn as sns"
      ],
      "metadata": {
        "id": "Apr9W67IV8GK"
      },
      "execution_count": null,
      "outputs": []
    },
    {
      "cell_type": "code",
      "source": [
        "# URL for ACS Computer Data\n",
        "url=\"https://api.census.gov/data/2021/acs/acs1?get=NAME,B19001_001E,B28003_004E,B28003_005E&for=congressional%20district:*&in=state:*\"\n",
        "\n",
        "# Storing the Response of the URL\n",
        "response = urlopen(url)\n",
        "\n",
        "# Storing JSON Response from URL in Data\n",
        "data_json = json.loads(response.read()) \n",
        "\n",
        "# Removing the First Row (Headers)\n",
        "data_json.pop(0)\n",
        "\n",
        "# Manually Populating Columns\n",
        "cols = ['District Name','Total Households','Computer with Broadband Internet', 'Computer with No Internet', 'State code', 'district number']\n",
        "\n",
        "acs_df = pd.DataFrame(data_json, columns = cols)\n",
        "\n",
        "# Cleaning the Data\n",
        "acs_df[['District', 'State']] = acs_df['District Name'].str.split(',', expand=True) \n",
        "acs_df['district number'] = pd.to_numeric(acs_df['district number'])\n",
        "acs_df['State'] = acs_df['State'].str.strip()\n",
        "\n",
        "# Keeping Only Our Selected Columns\n",
        "acs_df = acs_df[['Total Households', 'Computer with Broadband Internet', \"Computer with No Internet\", 'district number', 'State']]\n",
        "\n",
        "# Looking at the Top Results\n",
        "acs_df.head()"
      ],
      "metadata": {
        "colab": {
          "base_uri": "https://localhost:8080/",
          "height": 204
        },
        "id": "usc4ULY8V86B",
        "outputId": "696b689a-093e-48ee-f2a8-2e506a3a6d49"
      },
      "execution_count": null,
      "outputs": [
        {
          "output_type": "execute_result",
          "data": {
            "text/plain": [
              "  Total Households Computer with Broadband Internet Computer with No Internet  \\\n",
              "0           287768                           239824                     24786   \n",
              "1           267988                           220902                     25098   \n",
              "2           285773                           239847                     24411   \n",
              "3           265042                           213249                     26308   \n",
              "4           312227                           270312                     20398   \n",
              "\n",
              "   district number    State  \n",
              "0                1  Alabama  \n",
              "1                2  Alabama  \n",
              "2                3  Alabama  \n",
              "3                4  Alabama  \n",
              "4                5  Alabama  "
            ],
            "text/html": [
              "\n",
              "  <div id=\"df-54b32ff8-937c-449c-b10e-ec23d89e6acb\">\n",
              "    <div class=\"colab-df-container\">\n",
              "      <div>\n",
              "<style scoped>\n",
              "    .dataframe tbody tr th:only-of-type {\n",
              "        vertical-align: middle;\n",
              "    }\n",
              "\n",
              "    .dataframe tbody tr th {\n",
              "        vertical-align: top;\n",
              "    }\n",
              "\n",
              "    .dataframe thead th {\n",
              "        text-align: right;\n",
              "    }\n",
              "</style>\n",
              "<table border=\"1\" class=\"dataframe\">\n",
              "  <thead>\n",
              "    <tr style=\"text-align: right;\">\n",
              "      <th></th>\n",
              "      <th>Total Households</th>\n",
              "      <th>Computer with Broadband Internet</th>\n",
              "      <th>Computer with No Internet</th>\n",
              "      <th>district number</th>\n",
              "      <th>State</th>\n",
              "    </tr>\n",
              "  </thead>\n",
              "  <tbody>\n",
              "    <tr>\n",
              "      <th>0</th>\n",
              "      <td>287768</td>\n",
              "      <td>239824</td>\n",
              "      <td>24786</td>\n",
              "      <td>1</td>\n",
              "      <td>Alabama</td>\n",
              "    </tr>\n",
              "    <tr>\n",
              "      <th>1</th>\n",
              "      <td>267988</td>\n",
              "      <td>220902</td>\n",
              "      <td>25098</td>\n",
              "      <td>2</td>\n",
              "      <td>Alabama</td>\n",
              "    </tr>\n",
              "    <tr>\n",
              "      <th>2</th>\n",
              "      <td>285773</td>\n",
              "      <td>239847</td>\n",
              "      <td>24411</td>\n",
              "      <td>3</td>\n",
              "      <td>Alabama</td>\n",
              "    </tr>\n",
              "    <tr>\n",
              "      <th>3</th>\n",
              "      <td>265042</td>\n",
              "      <td>213249</td>\n",
              "      <td>26308</td>\n",
              "      <td>4</td>\n",
              "      <td>Alabama</td>\n",
              "    </tr>\n",
              "    <tr>\n",
              "      <th>4</th>\n",
              "      <td>312227</td>\n",
              "      <td>270312</td>\n",
              "      <td>20398</td>\n",
              "      <td>5</td>\n",
              "      <td>Alabama</td>\n",
              "    </tr>\n",
              "  </tbody>\n",
              "</table>\n",
              "</div>\n",
              "      <button class=\"colab-df-convert\" onclick=\"convertToInteractive('df-54b32ff8-937c-449c-b10e-ec23d89e6acb')\"\n",
              "              title=\"Convert this dataframe to an interactive table.\"\n",
              "              style=\"display:none;\">\n",
              "        \n",
              "  <svg xmlns=\"http://www.w3.org/2000/svg\" height=\"24px\"viewBox=\"0 0 24 24\"\n",
              "       width=\"24px\">\n",
              "    <path d=\"M0 0h24v24H0V0z\" fill=\"none\"/>\n",
              "    <path d=\"M18.56 5.44l.94 2.06.94-2.06 2.06-.94-2.06-.94-.94-2.06-.94 2.06-2.06.94zm-11 1L8.5 8.5l.94-2.06 2.06-.94-2.06-.94L8.5 2.5l-.94 2.06-2.06.94zm10 10l.94 2.06.94-2.06 2.06-.94-2.06-.94-.94-2.06-.94 2.06-2.06.94z\"/><path d=\"M17.41 7.96l-1.37-1.37c-.4-.4-.92-.59-1.43-.59-.52 0-1.04.2-1.43.59L10.3 9.45l-7.72 7.72c-.78.78-.78 2.05 0 2.83L4 21.41c.39.39.9.59 1.41.59.51 0 1.02-.2 1.41-.59l7.78-7.78 2.81-2.81c.8-.78.8-2.07 0-2.86zM5.41 20L4 18.59l7.72-7.72 1.47 1.35L5.41 20z\"/>\n",
              "  </svg>\n",
              "      </button>\n",
              "      \n",
              "  <style>\n",
              "    .colab-df-container {\n",
              "      display:flex;\n",
              "      flex-wrap:wrap;\n",
              "      gap: 12px;\n",
              "    }\n",
              "\n",
              "    .colab-df-convert {\n",
              "      background-color: #E8F0FE;\n",
              "      border: none;\n",
              "      border-radius: 50%;\n",
              "      cursor: pointer;\n",
              "      display: none;\n",
              "      fill: #1967D2;\n",
              "      height: 32px;\n",
              "      padding: 0 0 0 0;\n",
              "      width: 32px;\n",
              "    }\n",
              "\n",
              "    .colab-df-convert:hover {\n",
              "      background-color: #E2EBFA;\n",
              "      box-shadow: 0px 1px 2px rgba(60, 64, 67, 0.3), 0px 1px 3px 1px rgba(60, 64, 67, 0.15);\n",
              "      fill: #174EA6;\n",
              "    }\n",
              "\n",
              "    [theme=dark] .colab-df-convert {\n",
              "      background-color: #3B4455;\n",
              "      fill: #D2E3FC;\n",
              "    }\n",
              "\n",
              "    [theme=dark] .colab-df-convert:hover {\n",
              "      background-color: #434B5C;\n",
              "      box-shadow: 0px 1px 3px 1px rgba(0, 0, 0, 0.15);\n",
              "      filter: drop-shadow(0px 1px 2px rgba(0, 0, 0, 0.3));\n",
              "      fill: #FFFFFF;\n",
              "    }\n",
              "  </style>\n",
              "\n",
              "      <script>\n",
              "        const buttonEl =\n",
              "          document.querySelector('#df-54b32ff8-937c-449c-b10e-ec23d89e6acb button.colab-df-convert');\n",
              "        buttonEl.style.display =\n",
              "          google.colab.kernel.accessAllowed ? 'block' : 'none';\n",
              "\n",
              "        async function convertToInteractive(key) {\n",
              "          const element = document.querySelector('#df-54b32ff8-937c-449c-b10e-ec23d89e6acb');\n",
              "          const dataTable =\n",
              "            await google.colab.kernel.invokeFunction('convertToInteractive',\n",
              "                                                     [key], {});\n",
              "          if (!dataTable) return;\n",
              "\n",
              "          const docLinkHtml = 'Like what you see? Visit the ' +\n",
              "            '<a target=\"_blank\" href=https://colab.research.google.com/notebooks/data_table.ipynb>data table notebook</a>'\n",
              "            + ' to learn more about interactive tables.';\n",
              "          element.innerHTML = '';\n",
              "          dataTable['output_type'] = 'display_data';\n",
              "          await google.colab.output.renderOutput(dataTable, element);\n",
              "          const docLink = document.createElement('div');\n",
              "          docLink.innerHTML = docLinkHtml;\n",
              "          element.appendChild(docLink);\n",
              "        }\n",
              "      </script>\n",
              "    </div>\n",
              "  </div>\n",
              "  "
            ]
          },
          "metadata": {},
          "execution_count": 4
        }
      ]
    },
    {
      "cell_type": "code",
      "source": [
        "# Convert Columns to Numeric Data Types\n",
        "acs_df[\"Total Households\"] = pd.to_numeric(acs_df[\"Total Households\"])\n",
        "acs_df[\"Computer with Broadband Internet\"] = pd.to_numeric(acs_df[\"Computer with Broadband Internet\"])\n",
        "acs_df['Computer with No Internet'] = pd.to_numeric(acs_df['Computer with No Internet'])\n",
        "\n",
        "# Computing New Columns for Percentage of Households\n",
        "acs_df['% of households with a Computer and Broadband Internet'] = (100*acs_df['Computer with Broadband Internet'])/acs_df['Total Households']\n",
        "acs_df['% of households with a Computer but No Internet'] = (100*acs_df['Computer with No Internet'])/acs_df['Total Households']\n",
        "\n",
        "# Looking at the Top Results\n",
        "acs_df.head()"
      ],
      "metadata": {
        "colab": {
          "base_uri": "https://localhost:8080/",
          "height": 265
        },
        "id": "mdNCwwTkWG1L",
        "outputId": "dff55127-7530-4353-b311-2c264a01d3d0"
      },
      "execution_count": null,
      "outputs": [
        {
          "output_type": "execute_result",
          "data": {
            "text/plain": [
              "   Total Households  Computer with Broadband Internet  \\\n",
              "0            287768                            239824   \n",
              "1            267988                            220902   \n",
              "2            285773                            239847   \n",
              "3            265042                            213249   \n",
              "4            312227                            270312   \n",
              "\n",
              "   Computer with No Internet  district number    State  \\\n",
              "0                      24786                1  Alabama   \n",
              "1                      25098                2  Alabama   \n",
              "2                      24411                3  Alabama   \n",
              "3                      26308                4  Alabama   \n",
              "4                      20398                5  Alabama   \n",
              "\n",
              "   % of households with a Computer and Broadband Internet  \\\n",
              "0                                          83.339357        \n",
              "1                                          82.429810        \n",
              "2                                          83.929203        \n",
              "3                                          80.458569        \n",
              "4                                          86.575472        \n",
              "\n",
              "   % of households with a Computer but No Internet  \n",
              "0                                         8.613188  \n",
              "1                                         9.365345  \n",
              "2                                         8.542095  \n",
              "3                                         9.925974  \n",
              "4                                         6.533067  "
            ],
            "text/html": [
              "\n",
              "  <div id=\"df-9b37973e-c167-4ea3-b358-959995d9b36c\">\n",
              "    <div class=\"colab-df-container\">\n",
              "      <div>\n",
              "<style scoped>\n",
              "    .dataframe tbody tr th:only-of-type {\n",
              "        vertical-align: middle;\n",
              "    }\n",
              "\n",
              "    .dataframe tbody tr th {\n",
              "        vertical-align: top;\n",
              "    }\n",
              "\n",
              "    .dataframe thead th {\n",
              "        text-align: right;\n",
              "    }\n",
              "</style>\n",
              "<table border=\"1\" class=\"dataframe\">\n",
              "  <thead>\n",
              "    <tr style=\"text-align: right;\">\n",
              "      <th></th>\n",
              "      <th>Total Households</th>\n",
              "      <th>Computer with Broadband Internet</th>\n",
              "      <th>Computer with No Internet</th>\n",
              "      <th>district number</th>\n",
              "      <th>State</th>\n",
              "      <th>% of households with a Computer and Broadband Internet</th>\n",
              "      <th>% of households with a Computer but No Internet</th>\n",
              "    </tr>\n",
              "  </thead>\n",
              "  <tbody>\n",
              "    <tr>\n",
              "      <th>0</th>\n",
              "      <td>287768</td>\n",
              "      <td>239824</td>\n",
              "      <td>24786</td>\n",
              "      <td>1</td>\n",
              "      <td>Alabama</td>\n",
              "      <td>83.339357</td>\n",
              "      <td>8.613188</td>\n",
              "    </tr>\n",
              "    <tr>\n",
              "      <th>1</th>\n",
              "      <td>267988</td>\n",
              "      <td>220902</td>\n",
              "      <td>25098</td>\n",
              "      <td>2</td>\n",
              "      <td>Alabama</td>\n",
              "      <td>82.429810</td>\n",
              "      <td>9.365345</td>\n",
              "    </tr>\n",
              "    <tr>\n",
              "      <th>2</th>\n",
              "      <td>285773</td>\n",
              "      <td>239847</td>\n",
              "      <td>24411</td>\n",
              "      <td>3</td>\n",
              "      <td>Alabama</td>\n",
              "      <td>83.929203</td>\n",
              "      <td>8.542095</td>\n",
              "    </tr>\n",
              "    <tr>\n",
              "      <th>3</th>\n",
              "      <td>265042</td>\n",
              "      <td>213249</td>\n",
              "      <td>26308</td>\n",
              "      <td>4</td>\n",
              "      <td>Alabama</td>\n",
              "      <td>80.458569</td>\n",
              "      <td>9.925974</td>\n",
              "    </tr>\n",
              "    <tr>\n",
              "      <th>4</th>\n",
              "      <td>312227</td>\n",
              "      <td>270312</td>\n",
              "      <td>20398</td>\n",
              "      <td>5</td>\n",
              "      <td>Alabama</td>\n",
              "      <td>86.575472</td>\n",
              "      <td>6.533067</td>\n",
              "    </tr>\n",
              "  </tbody>\n",
              "</table>\n",
              "</div>\n",
              "      <button class=\"colab-df-convert\" onclick=\"convertToInteractive('df-9b37973e-c167-4ea3-b358-959995d9b36c')\"\n",
              "              title=\"Convert this dataframe to an interactive table.\"\n",
              "              style=\"display:none;\">\n",
              "        \n",
              "  <svg xmlns=\"http://www.w3.org/2000/svg\" height=\"24px\"viewBox=\"0 0 24 24\"\n",
              "       width=\"24px\">\n",
              "    <path d=\"M0 0h24v24H0V0z\" fill=\"none\"/>\n",
              "    <path d=\"M18.56 5.44l.94 2.06.94-2.06 2.06-.94-2.06-.94-.94-2.06-.94 2.06-2.06.94zm-11 1L8.5 8.5l.94-2.06 2.06-.94-2.06-.94L8.5 2.5l-.94 2.06-2.06.94zm10 10l.94 2.06.94-2.06 2.06-.94-2.06-.94-.94-2.06-.94 2.06-2.06.94z\"/><path d=\"M17.41 7.96l-1.37-1.37c-.4-.4-.92-.59-1.43-.59-.52 0-1.04.2-1.43.59L10.3 9.45l-7.72 7.72c-.78.78-.78 2.05 0 2.83L4 21.41c.39.39.9.59 1.41.59.51 0 1.02-.2 1.41-.59l7.78-7.78 2.81-2.81c.8-.78.8-2.07 0-2.86zM5.41 20L4 18.59l7.72-7.72 1.47 1.35L5.41 20z\"/>\n",
              "  </svg>\n",
              "      </button>\n",
              "      \n",
              "  <style>\n",
              "    .colab-df-container {\n",
              "      display:flex;\n",
              "      flex-wrap:wrap;\n",
              "      gap: 12px;\n",
              "    }\n",
              "\n",
              "    .colab-df-convert {\n",
              "      background-color: #E8F0FE;\n",
              "      border: none;\n",
              "      border-radius: 50%;\n",
              "      cursor: pointer;\n",
              "      display: none;\n",
              "      fill: #1967D2;\n",
              "      height: 32px;\n",
              "      padding: 0 0 0 0;\n",
              "      width: 32px;\n",
              "    }\n",
              "\n",
              "    .colab-df-convert:hover {\n",
              "      background-color: #E2EBFA;\n",
              "      box-shadow: 0px 1px 2px rgba(60, 64, 67, 0.3), 0px 1px 3px 1px rgba(60, 64, 67, 0.15);\n",
              "      fill: #174EA6;\n",
              "    }\n",
              "\n",
              "    [theme=dark] .colab-df-convert {\n",
              "      background-color: #3B4455;\n",
              "      fill: #D2E3FC;\n",
              "    }\n",
              "\n",
              "    [theme=dark] .colab-df-convert:hover {\n",
              "      background-color: #434B5C;\n",
              "      box-shadow: 0px 1px 3px 1px rgba(0, 0, 0, 0.15);\n",
              "      filter: drop-shadow(0px 1px 2px rgba(0, 0, 0, 0.3));\n",
              "      fill: #FFFFFF;\n",
              "    }\n",
              "  </style>\n",
              "\n",
              "      <script>\n",
              "        const buttonEl =\n",
              "          document.querySelector('#df-9b37973e-c167-4ea3-b358-959995d9b36c button.colab-df-convert');\n",
              "        buttonEl.style.display =\n",
              "          google.colab.kernel.accessAllowed ? 'block' : 'none';\n",
              "\n",
              "        async function convertToInteractive(key) {\n",
              "          const element = document.querySelector('#df-9b37973e-c167-4ea3-b358-959995d9b36c');\n",
              "          const dataTable =\n",
              "            await google.colab.kernel.invokeFunction('convertToInteractive',\n",
              "                                                     [key], {});\n",
              "          if (!dataTable) return;\n",
              "\n",
              "          const docLinkHtml = 'Like what you see? Visit the ' +\n",
              "            '<a target=\"_blank\" href=https://colab.research.google.com/notebooks/data_table.ipynb>data table notebook</a>'\n",
              "            + ' to learn more about interactive tables.';\n",
              "          element.innerHTML = '';\n",
              "          dataTable['output_type'] = 'display_data';\n",
              "          await google.colab.output.renderOutput(dataTable, element);\n",
              "          const docLink = document.createElement('div');\n",
              "          docLink.innerHTML = docLinkHtml;\n",
              "          element.appendChild(docLink);\n",
              "        }\n",
              "      </script>\n",
              "    </div>\n",
              "  </div>\n",
              "  "
            ]
          },
          "metadata": {},
          "execution_count": 5
        }
      ]
    },
    {
      "cell_type": "markdown",
      "source": [
        "# Political Affiliation Data"
      ],
      "metadata": {
        "id": "vTtl4hv8RKV0"
      }
    },
    {
      "cell_type": "code",
      "source": [
        "# Reading Congressional Data into Pandas Dataframe\n",
        "party_df = pd.read_csv(\"http://goodcsv.com/wp-content/uploads/2020/08/us-house-of-representatives-2020.csv\", encoding = \"ISO-8859-1\")\n",
        "\n",
        "# Extracting District Number\n",
        "party_df['district number'] = party_df['District/Position'].str.extract('(\\d+)')\n",
        "party_df['district number'] = party_df['district number'].fillna(0)\n",
        "party_df['district number'] = pd.to_numeric(party_df['district number'])\n",
        "party_df['State'] = party_df['State/Territory']\n",
        "party_df['State'] = party_df['State'].str.strip()\n",
        "party_df['Party'] = party_df['Party'].str.strip() # remove extraneous whitespace\n",
        "\n",
        "# Keeping Our Selected Columns\n",
        "party_df = party_df[['State', 'Party', \"district number\"]]\n",
        "\n",
        "# Looking at the Top Results\n",
        "party_df.head(5)"
      ],
      "metadata": {
        "id": "Dk7El1acWJv6",
        "colab": {
          "base_uri": "https://localhost:8080/",
          "height": 204
        },
        "outputId": "3e6c7381-1a8d-409a-95ac-551addc05814"
      },
      "execution_count": null,
      "outputs": [
        {
          "output_type": "execute_result",
          "data": {
            "text/plain": [
              "            State Party  district number\n",
              "0       Louisiana     R                5\n",
              "1  North Carolina     D               12\n",
              "2         Alabama     R                4\n",
              "3      California     D               31\n",
              "4         Georgia     R               12"
            ],
            "text/html": [
              "\n",
              "  <div id=\"df-6374d8ac-d9ae-49bf-87be-2fdd1159e755\">\n",
              "    <div class=\"colab-df-container\">\n",
              "      <div>\n",
              "<style scoped>\n",
              "    .dataframe tbody tr th:only-of-type {\n",
              "        vertical-align: middle;\n",
              "    }\n",
              "\n",
              "    .dataframe tbody tr th {\n",
              "        vertical-align: top;\n",
              "    }\n",
              "\n",
              "    .dataframe thead th {\n",
              "        text-align: right;\n",
              "    }\n",
              "</style>\n",
              "<table border=\"1\" class=\"dataframe\">\n",
              "  <thead>\n",
              "    <tr style=\"text-align: right;\">\n",
              "      <th></th>\n",
              "      <th>State</th>\n",
              "      <th>Party</th>\n",
              "      <th>district number</th>\n",
              "    </tr>\n",
              "  </thead>\n",
              "  <tbody>\n",
              "    <tr>\n",
              "      <th>0</th>\n",
              "      <td>Louisiana</td>\n",
              "      <td>R</td>\n",
              "      <td>5</td>\n",
              "    </tr>\n",
              "    <tr>\n",
              "      <th>1</th>\n",
              "      <td>North Carolina</td>\n",
              "      <td>D</td>\n",
              "      <td>12</td>\n",
              "    </tr>\n",
              "    <tr>\n",
              "      <th>2</th>\n",
              "      <td>Alabama</td>\n",
              "      <td>R</td>\n",
              "      <td>4</td>\n",
              "    </tr>\n",
              "    <tr>\n",
              "      <th>3</th>\n",
              "      <td>California</td>\n",
              "      <td>D</td>\n",
              "      <td>31</td>\n",
              "    </tr>\n",
              "    <tr>\n",
              "      <th>4</th>\n",
              "      <td>Georgia</td>\n",
              "      <td>R</td>\n",
              "      <td>12</td>\n",
              "    </tr>\n",
              "  </tbody>\n",
              "</table>\n",
              "</div>\n",
              "      <button class=\"colab-df-convert\" onclick=\"convertToInteractive('df-6374d8ac-d9ae-49bf-87be-2fdd1159e755')\"\n",
              "              title=\"Convert this dataframe to an interactive table.\"\n",
              "              style=\"display:none;\">\n",
              "        \n",
              "  <svg xmlns=\"http://www.w3.org/2000/svg\" height=\"24px\"viewBox=\"0 0 24 24\"\n",
              "       width=\"24px\">\n",
              "    <path d=\"M0 0h24v24H0V0z\" fill=\"none\"/>\n",
              "    <path d=\"M18.56 5.44l.94 2.06.94-2.06 2.06-.94-2.06-.94-.94-2.06-.94 2.06-2.06.94zm-11 1L8.5 8.5l.94-2.06 2.06-.94-2.06-.94L8.5 2.5l-.94 2.06-2.06.94zm10 10l.94 2.06.94-2.06 2.06-.94-2.06-.94-.94-2.06-.94 2.06-2.06.94z\"/><path d=\"M17.41 7.96l-1.37-1.37c-.4-.4-.92-.59-1.43-.59-.52 0-1.04.2-1.43.59L10.3 9.45l-7.72 7.72c-.78.78-.78 2.05 0 2.83L4 21.41c.39.39.9.59 1.41.59.51 0 1.02-.2 1.41-.59l7.78-7.78 2.81-2.81c.8-.78.8-2.07 0-2.86zM5.41 20L4 18.59l7.72-7.72 1.47 1.35L5.41 20z\"/>\n",
              "  </svg>\n",
              "      </button>\n",
              "      \n",
              "  <style>\n",
              "    .colab-df-container {\n",
              "      display:flex;\n",
              "      flex-wrap:wrap;\n",
              "      gap: 12px;\n",
              "    }\n",
              "\n",
              "    .colab-df-convert {\n",
              "      background-color: #E8F0FE;\n",
              "      border: none;\n",
              "      border-radius: 50%;\n",
              "      cursor: pointer;\n",
              "      display: none;\n",
              "      fill: #1967D2;\n",
              "      height: 32px;\n",
              "      padding: 0 0 0 0;\n",
              "      width: 32px;\n",
              "    }\n",
              "\n",
              "    .colab-df-convert:hover {\n",
              "      background-color: #E2EBFA;\n",
              "      box-shadow: 0px 1px 2px rgba(60, 64, 67, 0.3), 0px 1px 3px 1px rgba(60, 64, 67, 0.15);\n",
              "      fill: #174EA6;\n",
              "    }\n",
              "\n",
              "    [theme=dark] .colab-df-convert {\n",
              "      background-color: #3B4455;\n",
              "      fill: #D2E3FC;\n",
              "    }\n",
              "\n",
              "    [theme=dark] .colab-df-convert:hover {\n",
              "      background-color: #434B5C;\n",
              "      box-shadow: 0px 1px 3px 1px rgba(0, 0, 0, 0.15);\n",
              "      filter: drop-shadow(0px 1px 2px rgba(0, 0, 0, 0.3));\n",
              "      fill: #FFFFFF;\n",
              "    }\n",
              "  </style>\n",
              "\n",
              "      <script>\n",
              "        const buttonEl =\n",
              "          document.querySelector('#df-6374d8ac-d9ae-49bf-87be-2fdd1159e755 button.colab-df-convert');\n",
              "        buttonEl.style.display =\n",
              "          google.colab.kernel.accessAllowed ? 'block' : 'none';\n",
              "\n",
              "        async function convertToInteractive(key) {\n",
              "          const element = document.querySelector('#df-6374d8ac-d9ae-49bf-87be-2fdd1159e755');\n",
              "          const dataTable =\n",
              "            await google.colab.kernel.invokeFunction('convertToInteractive',\n",
              "                                                     [key], {});\n",
              "          if (!dataTable) return;\n",
              "\n",
              "          const docLinkHtml = 'Like what you see? Visit the ' +\n",
              "            '<a target=\"_blank\" href=https://colab.research.google.com/notebooks/data_table.ipynb>data table notebook</a>'\n",
              "            + ' to learn more about interactive tables.';\n",
              "          element.innerHTML = '';\n",
              "          dataTable['output_type'] = 'display_data';\n",
              "          await google.colab.output.renderOutput(dataTable, element);\n",
              "          const docLink = document.createElement('div');\n",
              "          docLink.innerHTML = docLinkHtml;\n",
              "          element.appendChild(docLink);\n",
              "        }\n",
              "      </script>\n",
              "    </div>\n",
              "  </div>\n",
              "  "
            ]
          },
          "metadata": {},
          "execution_count": 38
        }
      ]
    },
    {
      "cell_type": "markdown",
      "source": [
        "# Merging the Data"
      ],
      "metadata": {
        "id": "FhDUGwkTRN73"
      }
    },
    {
      "cell_type": "code",
      "source": [
        "# Merging our Data\n",
        "merged_df = pd.merge(acs_df, party_df, on=[\"State\", \"district number\"])"
      ],
      "metadata": {
        "id": "ZHTcIv0RWN9w"
      },
      "execution_count": null,
      "outputs": []
    },
    {
      "cell_type": "code",
      "source": [
        "# Summary of our New Merged Data\n",
        "merged_df.describe()"
      ],
      "metadata": {
        "id": "8YlX3HkiWOeI",
        "colab": {
          "base_uri": "https://localhost:8080/",
          "height": 358
        },
        "outputId": "85399944-2ea9-4038-c027-766ad554c8af"
      },
      "execution_count": null,
      "outputs": [
        {
          "output_type": "execute_result",
          "data": {
            "text/plain": [
              "       Total Households  Computer with Broadband Internet  \\\n",
              "count        435.000000                        435.000000   \n",
              "mean      292471.643678                     261320.082759   \n",
              "std        33670.787672                      34058.128523   \n",
              "min       183319.000000                     161689.000000   \n",
              "25%       273747.000000                     239832.000000   \n",
              "50%       292311.000000                     261350.000000   \n",
              "75%       311849.500000                     280730.000000   \n",
              "max       448949.000000                     395913.000000   \n",
              "\n",
              "       Computer with No Internet  district number  \\\n",
              "count                 435.000000       435.000000   \n",
              "mean                16204.422989        10.158621   \n",
              "std                  5918.145457        10.656779   \n",
              "min                  4946.000000         0.000000   \n",
              "25%                 11742.000000         3.000000   \n",
              "50%                 15237.000000         6.000000   \n",
              "75%                 19542.500000        13.000000   \n",
              "max                 37978.000000        53.000000   \n",
              "\n",
              "       % of households with a Computer and Broadband Internet  \\\n",
              "count                                         435.000000        \n",
              "mean                                           89.267924        \n",
              "std                                             3.832840        \n",
              "min                                            74.846394        \n",
              "25%                                            86.908824        \n",
              "50%                                            89.671624        \n",
              "75%                                            92.155969        \n",
              "max                                            96.067298        \n",
              "\n",
              "       % of households with a Computer but No Internet  \n",
              "count                                       435.000000  \n",
              "mean                                          5.574191  \n",
              "std                                           2.102537  \n",
              "min                                           1.636118  \n",
              "25%                                           4.047734  \n",
              "50%                                           5.213431  \n",
              "75%                                           6.583453  \n",
              "max                                          14.429441  "
            ],
            "text/html": [
              "\n",
              "  <div id=\"df-50490655-5ff5-42c8-ad5e-417fb3152a3c\">\n",
              "    <div class=\"colab-df-container\">\n",
              "      <div>\n",
              "<style scoped>\n",
              "    .dataframe tbody tr th:only-of-type {\n",
              "        vertical-align: middle;\n",
              "    }\n",
              "\n",
              "    .dataframe tbody tr th {\n",
              "        vertical-align: top;\n",
              "    }\n",
              "\n",
              "    .dataframe thead th {\n",
              "        text-align: right;\n",
              "    }\n",
              "</style>\n",
              "<table border=\"1\" class=\"dataframe\">\n",
              "  <thead>\n",
              "    <tr style=\"text-align: right;\">\n",
              "      <th></th>\n",
              "      <th>Total Households</th>\n",
              "      <th>Computer with Broadband Internet</th>\n",
              "      <th>Computer with No Internet</th>\n",
              "      <th>district number</th>\n",
              "      <th>% of households with a Computer and Broadband Internet</th>\n",
              "      <th>% of households with a Computer but No Internet</th>\n",
              "    </tr>\n",
              "  </thead>\n",
              "  <tbody>\n",
              "    <tr>\n",
              "      <th>count</th>\n",
              "      <td>435.000000</td>\n",
              "      <td>435.000000</td>\n",
              "      <td>435.000000</td>\n",
              "      <td>435.000000</td>\n",
              "      <td>435.000000</td>\n",
              "      <td>435.000000</td>\n",
              "    </tr>\n",
              "    <tr>\n",
              "      <th>mean</th>\n",
              "      <td>292471.643678</td>\n",
              "      <td>261320.082759</td>\n",
              "      <td>16204.422989</td>\n",
              "      <td>10.158621</td>\n",
              "      <td>89.267924</td>\n",
              "      <td>5.574191</td>\n",
              "    </tr>\n",
              "    <tr>\n",
              "      <th>std</th>\n",
              "      <td>33670.787672</td>\n",
              "      <td>34058.128523</td>\n",
              "      <td>5918.145457</td>\n",
              "      <td>10.656779</td>\n",
              "      <td>3.832840</td>\n",
              "      <td>2.102537</td>\n",
              "    </tr>\n",
              "    <tr>\n",
              "      <th>min</th>\n",
              "      <td>183319.000000</td>\n",
              "      <td>161689.000000</td>\n",
              "      <td>4946.000000</td>\n",
              "      <td>0.000000</td>\n",
              "      <td>74.846394</td>\n",
              "      <td>1.636118</td>\n",
              "    </tr>\n",
              "    <tr>\n",
              "      <th>25%</th>\n",
              "      <td>273747.000000</td>\n",
              "      <td>239832.000000</td>\n",
              "      <td>11742.000000</td>\n",
              "      <td>3.000000</td>\n",
              "      <td>86.908824</td>\n",
              "      <td>4.047734</td>\n",
              "    </tr>\n",
              "    <tr>\n",
              "      <th>50%</th>\n",
              "      <td>292311.000000</td>\n",
              "      <td>261350.000000</td>\n",
              "      <td>15237.000000</td>\n",
              "      <td>6.000000</td>\n",
              "      <td>89.671624</td>\n",
              "      <td>5.213431</td>\n",
              "    </tr>\n",
              "    <tr>\n",
              "      <th>75%</th>\n",
              "      <td>311849.500000</td>\n",
              "      <td>280730.000000</td>\n",
              "      <td>19542.500000</td>\n",
              "      <td>13.000000</td>\n",
              "      <td>92.155969</td>\n",
              "      <td>6.583453</td>\n",
              "    </tr>\n",
              "    <tr>\n",
              "      <th>max</th>\n",
              "      <td>448949.000000</td>\n",
              "      <td>395913.000000</td>\n",
              "      <td>37978.000000</td>\n",
              "      <td>53.000000</td>\n",
              "      <td>96.067298</td>\n",
              "      <td>14.429441</td>\n",
              "    </tr>\n",
              "  </tbody>\n",
              "</table>\n",
              "</div>\n",
              "      <button class=\"colab-df-convert\" onclick=\"convertToInteractive('df-50490655-5ff5-42c8-ad5e-417fb3152a3c')\"\n",
              "              title=\"Convert this dataframe to an interactive table.\"\n",
              "              style=\"display:none;\">\n",
              "        \n",
              "  <svg xmlns=\"http://www.w3.org/2000/svg\" height=\"24px\"viewBox=\"0 0 24 24\"\n",
              "       width=\"24px\">\n",
              "    <path d=\"M0 0h24v24H0V0z\" fill=\"none\"/>\n",
              "    <path d=\"M18.56 5.44l.94 2.06.94-2.06 2.06-.94-2.06-.94-.94-2.06-.94 2.06-2.06.94zm-11 1L8.5 8.5l.94-2.06 2.06-.94-2.06-.94L8.5 2.5l-.94 2.06-2.06.94zm10 10l.94 2.06.94-2.06 2.06-.94-2.06-.94-.94-2.06-.94 2.06-2.06.94z\"/><path d=\"M17.41 7.96l-1.37-1.37c-.4-.4-.92-.59-1.43-.59-.52 0-1.04.2-1.43.59L10.3 9.45l-7.72 7.72c-.78.78-.78 2.05 0 2.83L4 21.41c.39.39.9.59 1.41.59.51 0 1.02-.2 1.41-.59l7.78-7.78 2.81-2.81c.8-.78.8-2.07 0-2.86zM5.41 20L4 18.59l7.72-7.72 1.47 1.35L5.41 20z\"/>\n",
              "  </svg>\n",
              "      </button>\n",
              "      \n",
              "  <style>\n",
              "    .colab-df-container {\n",
              "      display:flex;\n",
              "      flex-wrap:wrap;\n",
              "      gap: 12px;\n",
              "    }\n",
              "\n",
              "    .colab-df-convert {\n",
              "      background-color: #E8F0FE;\n",
              "      border: none;\n",
              "      border-radius: 50%;\n",
              "      cursor: pointer;\n",
              "      display: none;\n",
              "      fill: #1967D2;\n",
              "      height: 32px;\n",
              "      padding: 0 0 0 0;\n",
              "      width: 32px;\n",
              "    }\n",
              "\n",
              "    .colab-df-convert:hover {\n",
              "      background-color: #E2EBFA;\n",
              "      box-shadow: 0px 1px 2px rgba(60, 64, 67, 0.3), 0px 1px 3px 1px rgba(60, 64, 67, 0.15);\n",
              "      fill: #174EA6;\n",
              "    }\n",
              "\n",
              "    [theme=dark] .colab-df-convert {\n",
              "      background-color: #3B4455;\n",
              "      fill: #D2E3FC;\n",
              "    }\n",
              "\n",
              "    [theme=dark] .colab-df-convert:hover {\n",
              "      background-color: #434B5C;\n",
              "      box-shadow: 0px 1px 3px 1px rgba(0, 0, 0, 0.15);\n",
              "      filter: drop-shadow(0px 1px 2px rgba(0, 0, 0, 0.3));\n",
              "      fill: #FFFFFF;\n",
              "    }\n",
              "  </style>\n",
              "\n",
              "      <script>\n",
              "        const buttonEl =\n",
              "          document.querySelector('#df-50490655-5ff5-42c8-ad5e-417fb3152a3c button.colab-df-convert');\n",
              "        buttonEl.style.display =\n",
              "          google.colab.kernel.accessAllowed ? 'block' : 'none';\n",
              "\n",
              "        async function convertToInteractive(key) {\n",
              "          const element = document.querySelector('#df-50490655-5ff5-42c8-ad5e-417fb3152a3c');\n",
              "          const dataTable =\n",
              "            await google.colab.kernel.invokeFunction('convertToInteractive',\n",
              "                                                     [key], {});\n",
              "          if (!dataTable) return;\n",
              "\n",
              "          const docLinkHtml = 'Like what you see? Visit the ' +\n",
              "            '<a target=\"_blank\" href=https://colab.research.google.com/notebooks/data_table.ipynb>data table notebook</a>'\n",
              "            + ' to learn more about interactive tables.';\n",
              "          element.innerHTML = '';\n",
              "          dataTable['output_type'] = 'display_data';\n",
              "          await google.colab.output.renderOutput(dataTable, element);\n",
              "          const docLink = document.createElement('div');\n",
              "          docLink.innerHTML = docLinkHtml;\n",
              "          element.appendChild(docLink);\n",
              "        }\n",
              "      </script>\n",
              "    </div>\n",
              "  </div>\n",
              "  "
            ]
          },
          "metadata": {},
          "execution_count": 33
        }
      ]
    },
    {
      "cell_type": "code",
      "source": [
        "# Checking Party Breakdown\n",
        "merged_df['Party'].value_counts()"
      ],
      "metadata": {
        "id": "_WIiXyfmWRp0",
        "colab": {
          "base_uri": "https://localhost:8080/"
        },
        "outputId": "2c1d5b4f-d5b0-4e41-95d4-1da02cd1c2f9"
      },
      "execution_count": null,
      "outputs": [
        {
          "output_type": "execute_result",
          "data": {
            "text/plain": [
              "D    233\n",
              "R    201\n",
              "L      1\n",
              "Name: Party, dtype: int64"
            ]
          },
          "metadata": {},
          "execution_count": 34
        }
      ]
    },
    {
      "cell_type": "markdown",
      "source": [
        "# Visualization"
      ],
      "metadata": {
        "id": "U6D7lEjzRR2Q"
      }
    },
    {
      "cell_type": "code",
      "source": [
        "fig, ax = plt.subplots(figsize=(15, 12))\n",
        "\n",
        "ax = sns.boxplot(x='Party', y='% of households with a Computer and Broadband Internet', data = merged_df, ax=ax, palette=\"Set1\")\n",
        "\n",
        "ax = sns.stripplot(x='Party', y='% of households with a Computer and Broadband Internet', data=merged_df, color=\"orange\", jitter=0.2, size=5.5, ax=ax)\n",
        "\n",
        "plt.title(\"% of Households with a Computer and Broadband Internet by Party\")\n",
        "\n",
        "# show the graph\n",
        "plt.show()"
      ],
      "metadata": {
        "colab": {
          "base_uri": "https://localhost:8080/",
          "height": 730
        },
        "id": "EVYiHtutXzYN",
        "outputId": "50acf2bb-d5e0-4bfb-f88f-5b1926b69736"
      },
      "execution_count": null,
      "outputs": [
        {
          "output_type": "display_data",
          "data": {
            "text/plain": [
              "<Figure size 1080x864 with 1 Axes>"
            ],
            "image/png": "[encoded data removed]"
          },
          "metadata": {
            "needs_background": "light"
          }
        }
      ]
    },
    {
      "cell_type": "code",
      "source": [
        "df_dem = merged_df[merged_df['Party']== \"D\"]\n",
        "\n",
        "sns.histplot(df_dem[\"% of households with a Computer but No Internet\"], bins = 20, color=\"blue\").set(title=\"Distribution of Democratic Districts by % of Households with a Computer but No Internet\")\n",
        "\n",
        "plt.xlim(0, 20)\n",
        "\n",
        "plt.ylim(0, 50)\n",
        "\n",
        "sns.despine()\n"
      ],
      "metadata": {
        "colab": {
          "base_uri": "https://localhost:8080/",
          "height": 295
        },
        "id": "hO0y4pMcY7Tq",
        "outputId": "32cfec7b-a240-4293-ee66-02e914b42b68"
      },
      "execution_count": null,
      "outputs": [
        {
          "output_type": "display_data",
          "data": {
            "text/plain": [
              "<Figure size 432x288 with 1 Axes>"
            ],
            "image/png": "[encoded data removed]"
          },
          "metadata": {
            "needs_background": "light"
          }
        }
      ]
    },
    {
      "cell_type": "code",
      "source": [
        "df_dem = merged_df[merged_df['Party']== \"R\"]\n",
        "\n",
        "sns.histplot(df_dem[\"% of households with a Computer but No Internet\"], bins = 20, color=\"red\").set(title=\"Distribution of Republican Districts by % of Households with a Computer but No Internet\")\n",
        "\n",
        "plt.xlim(0, 20)\n",
        "\n",
        "plt.ylim(0, 50)\n",
        "\n",
        "sns.despine()"
      ],
      "metadata": {
        "colab": {
          "base_uri": "https://localhost:8080/",
          "height": 295
        },
        "id": "6TeA89s5asSL",
        "outputId": "2cb5a9d8-8849-49ae-f094-5222a10b2d08"
      },
      "execution_count": null,
      "outputs": [
        {
          "output_type": "display_data",
          "data": {
            "text/plain": [
              "<Figure size 432x288 with 1 Axes>"
            ],
            "image/png": "[encoded data removed]"
          },
          "metadata": {
            "needs_background": "light"
          }
        }
      ]
    },
    {
      "cell_type": "code",
      "source": [
        "df_descending = merged_df.sort_values(\"% of households with a Computer but No Internet\",ascending=False)\n",
        "\n",
        "desc= df_descending[[\"Party\",\"% of households with a Computer but No Internet\", \"State\", \"district number\"]]\n",
        "\n",
        "# bottom 10 \n",
        "print(desc.head(10))"
      ],
      "metadata": {
        "colab": {
          "base_uri": "https://localhost:8080/"
        },
        "id": "epN9Ut-tcKsa",
        "outputId": "c43bb783-31f3-4534-e5ae-a9b3ec2184ae"
      },
      "execution_count": null,
      "outputs": [
        {
          "output_type": "stream",
          "name": "stdout",
          "text": [
            "    Party  % of households with a Computer but No Internet        State  \\\n",
            "110     D                                        14.429441      Florida   \n",
            "221     D                                        13.880445  Mississippi   \n",
            "256     D                                        11.748387   New Mexico   \n",
            "315     R                                        11.737833     Oklahoma   \n",
            "20      R                                        11.536418     Arkansas   \n",
            "255     D                                        11.529667   New Mexico   \n",
            "369     D                                        11.487711        Texas   \n",
            "176     R                                        11.173033    Louisiana   \n",
            "6       D                                        10.984436      Alabama   \n",
            "36      D                                        10.927176   California   \n",
            "\n",
            "     district number  \n",
            "110               24  \n",
            "221                2  \n",
            "256                3  \n",
            "315                2  \n",
            "20                 4  \n",
            "255                2  \n",
            "369                9  \n",
            "176                4  \n",
            "6                  7  \n",
            "36                16  \n"
          ]
        }
      ]
    },
    {
      "cell_type": "markdown",
      "source": [
        "# Findings"
      ],
      "metadata": {
        "id": "FF-lX6K6RU-d"
      }
    },
    {
      "cell_type": "markdown",
      "source": [
        "Our findings supported our first hypothesis and slightly contradicted our second. First, we can see in the boxplot that districts with a higher percentage of households owning a computer with broadband internet access tend to be democratic. Districts with a lower percentage of households owning a computer with broadband internet access tend to be republican. This supported our original hypothesis."
      ],
      "metadata": {
        "id": "Ej85-0d_RYcS"
      }
    },
    {
      "cell_type": "markdown",
      "source": [
        "Second, from the histograms we can see that the median percentage of households with a computer but no internet looks to be about 6% for Republican districts and 4.5% for Democratic districts. Even though the median is higher for Republicans, there are a greater number of Democratic regions with 4-6% of households having a computer but not internet. Moving forward, we would want to further investigate how income plays a role in this. "
      ],
      "metadata": {
        "id": "Vx1GSqi7f3cc"
      }
    }
  ]
}